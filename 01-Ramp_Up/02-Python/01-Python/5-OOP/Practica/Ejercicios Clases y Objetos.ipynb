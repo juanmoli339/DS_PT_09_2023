{
 "cells": [
  {
   "cell_type": "markdown",
   "metadata": {},
   "source": [
    "![imagen](./img/ejercicios.png)\n",
    "\n",
    "# Ejercicios Clases y Objetos"
   ]
  },
  {
   "cell_type": "markdown",
   "metadata": {},
   "source": [
    "## Ejercicio 1\n",
    "Somos una empresa que tiene varias tiendas de electrodomesticos. Necesitamos un programa para manejar las tiendas, ver las ventas que han tenido, cuántos empleados hay, etc... Para ello vamos a modelizar la tienda en una clase, que tendrá las siguientes características:\n",
    "* Nombre clase: \"Tienda\"\n",
    "* Atributos comunes:\n",
    "    * Tipo: \"Electrodomésticos\"\n",
    "    * Abierta: True\n",
    "* Atributos propios de cada tienda:\n",
    "    * Nombre - String\n",
    "    * Dirección - String\n",
    "    * Número de empleados - int\n",
    "    * Ventas ultimos 3 meses - Lista de 3 numeros\n",
    "* Método para calcular las ventas de todos los meses, que devuelva un numero con todas las ventas.\n",
    "* Método que calcula la media de ventas de los ultimos meses, por empleado\n",
    "* Método que devuelve en un string el nombre de la tienda, junto con su dirección.\n",
    "* Método que obtiene las ventas del último mes.\n",
    "* Método para dar una proyección de las ventas en caso de haber invertido X dinero en marketing en esa tienda. Siendo X el parámetro de entrada. Si X es menor de 1000, las ventas de los ultimos 3 meses hubiesen sido de (1.2 x ventas), si es mayor o igual de 1000, las ventas hubiesen sido de (1.5 x venta). El método reescribe el atributo de ventas en los últimos 3 meses, y además devuelve las ventas con el aumento.\n",
    "\n",
    "Se pide:\n",
    "1. Implementar la clase \"Tienda\"\n",
    "2. Crear tres tiendas con datos inventados\n",
    "3. Comprueba en al menos una de ellas, todo lo implementado en la clase tienda (sus atributos, media de ventas, ventas/empleado...)\n",
    "3. Calcular las ventas del último mes de todas las tiendas. Para ello usa el bucle `for`\n",
    "4. Imprime por pantalla los nombres de las tiendas cuya dirección lleve el string \"Avenida\"\n",
    "5. Seguro que ya has hecho este apartado... Documenta la clase :)"
   ]
  },
  {
   "cell_type": "code",
   "execution_count": 3,
   "metadata": {},
   "outputs": [],
   "source": [
    "class tienda:\n",
    "    # aqui los atributos comunes\n",
    "    Tipo = \"Electrodomésticos\"\n",
    "    Abierta = True\n",
    "    pi = 3,14 # se pueden poner cosas que no se usan \n",
    "\n",
    "    # aqui va el constructor con atributos particulares de cada elemento/tienda\n",
    "\n",
    "    def __init__(self, nombre:str, direccion:str, numero_empleados:int, ventas_tres_meses:list):\n",
    "        self.nombre = nombre\n",
    "        self.direccion = direccion\n",
    "        self.numero_empleados = numero_empleados\n",
    "        self.ventas_tres_meses = ventas_tres_meses\n",
    "    #las funciones\n",
    "\n",
    "    def total_ventas(self) -> int: # la funcion sum, para sumar todas las ventas de la lista \n",
    "        suma_ventas = sum(self.ventas_tres_meses)\n",
    "        print (self.ventas_tres_meses)\n",
    "        return (f'Las ventas totales son : {suma_ventas}')\n",
    "    \n",
    "    def media_ventas(self) -> int: \n",
    "        media = sum(self.ventas_tres_meses)/3\n",
    "        return (f'La media de ventas es : {media}')\n",
    "    # otra forma total ventas entre numero de empeleados usando el anterior variable que nos ha dado \n",
    "    \n",
    "    def informacion(self) -> str:\n",
    "        return (f'El nombre de la tienda es: {self.nombre} y su dirección es :{self.direccion }')\n",
    "    \n",
    "    def ultimo_mes(self) -> int:\n",
    "        return (self.ventas_tres_meses [-1]) \n",
    "    \n",
    "    def proyeccion(self) -> int:\n",
    "        inyeccion = int(input (\"Ingresa la inyeccion que vas a invertir \"))\n",
    "        producto_inicial = 1\n",
    "        if inyeccion < 1000: \n",
    "            for elementos in self.ventas_tres_meses:\n",
    "                nuevo_valor = elementos * producto_inicial * 1.2 \n",
    "        elif inyeccion >= 1000:  \n",
    "            for elementos in self.ventas_tres_meses:\n",
    "                nuevo_valor = elementos * producto_inicial * 1.5\n",
    "        else:\n",
    "            print (\"introduce valor correcto\")\n",
    "        return (nuevo_valor)\n",
    "    \n",
    "    # 5 \n",
    "    '''\n",
    "    def nombres(self) -> str:\n",
    "        buscar = \"Avenida\"\n",
    "        for elemento in self.direccion :\n",
    "             if buscar in elemento:\n",
    "                return self.nombre\n",
    "        print (self.nombre)\n",
    "        '''"
   ]
  },
  {
   "cell_type": "code",
   "execution_count": 2,
   "metadata": {},
   "outputs": [
    {
     "ename": "NameError",
     "evalue": "name 'tienda' is not defined",
     "output_type": "error",
     "traceback": [
      "\u001b[1;31m---------------------------------------------------------------------------\u001b[0m",
      "\u001b[1;31mNameError\u001b[0m                                 Traceback (most recent call last)",
      "\u001b[1;32mc:\\Users\\rival\\OneDrive\\Escritorio\\DS_PT_09_2023\\01-Ramp_Up\\02-Python\\01-Python\\5-OOP\\Practica\\Ejercicios Clases y Objetos.ipynb Cell 4\u001b[0m line \u001b[0;36m6\n\u001b[0;32m      <a href='vscode-notebook-cell:/c%3A/Users/rival/OneDrive/Escritorio/DS_PT_09_2023/01-Ramp_Up/02-Python/01-Python/5-OOP/Practica/Ejercicios%20Clases%20y%20Objetos.ipynb#Y114sZmlsZQ%3D%3D?line=2'>3</a>\u001b[0m     \u001b[39mfor\u001b[39;00m elementos \u001b[39min\u001b[39;00m \u001b[39mself\u001b[39m\u001b[39m.\u001b[39mventas_tres_meses:\n\u001b[0;32m      <a href='vscode-notebook-cell:/c%3A/Users/rival/OneDrive/Escritorio/DS_PT_09_2023/01-Ramp_Up/02-Python/01-Python/5-OOP/Practica/Ejercicios%20Clases%20y%20Objetos.ipynb#Y114sZmlsZQ%3D%3D?line=3'>4</a>\u001b[0m         \u001b[39mprint\u001b[39m ((\u001b[39mself\u001b[39m\u001b[39m.\u001b[39mventas_tres_meses [\u001b[39m2\u001b[39m]))\n\u001b[1;32m----> <a href='vscode-notebook-cell:/c%3A/Users/rival/OneDrive/Escritorio/DS_PT_09_2023/01-Ramp_Up/02-Python/01-Python/5-OOP/Practica/Ejercicios%20Clases%20y%20Objetos.ipynb#Y114sZmlsZQ%3D%3D?line=5'>6</a>\u001b[0m Ikea \u001b[39m=\u001b[39m tienda (\u001b[39m\"\u001b[39m\u001b[39mIkea Alcobendas\u001b[39m\u001b[39m\"\u001b[39m, \u001b[39m\"\u001b[39m\u001b[39mAvenida_America\u001b[39m\u001b[39m\"\u001b[39m, \u001b[39m320\u001b[39m, [\u001b[39m30\u001b[39m,\u001b[39m50\u001b[39m,\u001b[39m60\u001b[39m])\n\u001b[0;32m      <a href='vscode-notebook-cell:/c%3A/Users/rival/OneDrive/Escritorio/DS_PT_09_2023/01-Ramp_Up/02-Python/01-Python/5-OOP/Practica/Ejercicios%20Clases%20y%20Objetos.ipynb#Y114sZmlsZQ%3D%3D?line=7'>8</a>\u001b[0m \u001b[39mprint\u001b[39m (Ikea\u001b[39m.\u001b[39mventas)\n",
      "\u001b[1;31mNameError\u001b[0m: name 'tienda' is not defined"
     ]
    }
   ],
   "source": [
    "# 4 for ultimo elemento de cada tienda print ese elemento\n",
    "'''\n",
    "total_ventas = [Ikea, Carrefour, Maxichina]\n",
    "total _ventas = 0 \n",
    "    for elementos in self.ventas_tres_meses:\n",
    "        print ((self.ventas_tres_meses [2]))\n",
    "\n",
    "Ikea = tienda (\"Ikea Alcobendas\", \"Avenida_America\", 320, [30,50,60])\n",
    "\n",
    "print (Ikea.ventas)\n",
    "'''"
   ]
  },
  {
   "cell_type": "code",
   "execution_count": 119,
   "metadata": {},
   "outputs": [],
   "source": [
    "Ikea = tienda (\"Ikea Alcobendas\", \"Avenida_America\", 320, [30,50,60])\n",
    "Carrefour = tienda (\"Carrefour Aluche\", \"Calle Zamora\", 230, [50, 30, 120])\n",
    "Maxichina = tienda (\"Chino\", \"Avenida Alcalá\", 145, [50, 230, 120])"
   ]
  },
  {
   "cell_type": "code",
   "execution_count": 117,
   "metadata": {},
   "outputs": [
    {
     "name": "stdout",
     "output_type": "stream",
     "text": [
      "<bound method tienda.nombres of <__main__.tienda object at 0x0000021535EFEC10>>\n",
      "Carrefour Aluche\n",
      "None\n",
      "Chino\n",
      "None\n"
     ]
    }
   ],
   "source": [
    "print (Ikea.nombres)\n",
    "print (Carrefour.nombres()) \n",
    "print (Maxichina.nombres())"
   ]
  },
  {
   "cell_type": "code",
   "execution_count": 91,
   "metadata": {},
   "outputs": [
    {
     "name": "stdout",
     "output_type": "stream",
     "text": [
      "[30, 50, 60]\n",
      "Las ventas totales son : 140\n",
      "La media de ventas es : 46.666666666666664\n",
      "El nombre de la tienda es: Ikea Alcobendas y su dirección es:Avenida_America\n",
      "60\n",
      "72.0\n",
      "[50, 30, 120]\n",
      "Las ventas totales son : 200\n",
      "La media de ventas es : 66.66666666666667\n",
      "El nombre de la tienda es: Carrefour Aluche y su dirección es:Calle Zamora\n",
      "120\n",
      "180.0\n",
      "[50, 230, 120]\n",
      "Las ventas totales son : 400\n",
      "La media de ventas es : 133.33333333333334\n",
      "El nombre de la tienda es: Chino y su dirección es:Calle Alcalá\n",
      "120\n",
      "144.0\n"
     ]
    }
   ],
   "source": [
    "print(Ikea.total_ventas())  \n",
    "print(Ikea.media_ventas())  \n",
    "print(Ikea.informacion())\n",
    "print(Ikea.ultimo_mes())\n",
    "print(Ikea.proyeccion()) # ver el de Juan, poniendo la proyeccion \n",
    "\n",
    "print(Carrefour.total_ventas())  \n",
    "print(Carrefour.media_ventas())  \n",
    "print(Carrefour.informacion())\n",
    "print(Carrefour.ultimo_mes())\n",
    "print(Carrefour.proyeccion()) # ver el de Juan, poniendo la proyeccion \n",
    "\n",
    "print(Maxichina.total_ventas())  \n",
    "print(Maxichina.media_ventas())  \n",
    "print(Maxichina.informacion())\n",
    "print(Maxichina.ultimo_mes())\n",
    "print(Maxichina.proyeccion()) # ver el de Juan, poniendo la proyeccion "
   ]
  },
  {
   "cell_type": "code",
   "execution_count": null,
   "metadata": {},
   "outputs": [],
   "source": []
  },
  {
   "cell_type": "code",
   "execution_count": null,
   "metadata": {},
   "outputs": [],
   "source": []
  },
  {
   "cell_type": "code",
   "execution_count": null,
   "metadata": {},
   "outputs": [],
   "source": []
  },
  {
   "cell_type": "markdown",
   "metadata": {},
   "source": [
    "## Ejercicio 2\n",
    "En este ejercicio vamos a implementar una clase *Perro* en Python. La clase tiene las siguientes características:\n",
    "* Cosas que sabemos seguro que tiene un perro\n",
    "    * Tiene 4 patas\n",
    "    * 2 orejas\n",
    "    * 2 ojos\n",
    "    * Una velocidad de 0. Por defecto, el perro está parado\n",
    "* Cuando se inicialice:\n",
    "    * El perro será de una determinada raza\n",
    "    * Por defecto tendrá pelo \"Marrón\", a no ser que se diga lo contrario.\n",
    "    * Por defecto no tendrá dueño, a no ser que se diga lo contrario.\n",
    "    \n",
    "* Dispondrá también de un método llamado andar, que tiene un argumento de entrada (aumento_velocidad). Este valor se le sumará a la velocidad que ya llevaba el perro.\n",
    "* Necesita otro método (parar), donde pondremos la velocidad a 0.\n",
    "* Otro método llamado \"ladrar\", que tendrá un argumento de entrada, y la salida será el siguiente string: \"GUAU!\" + el argumento de entrada.\n",
    "\n",
    "\n",
    "Se pide:\n",
    "* Implementa la clase *Perro*\n",
    "* Crea un objeto de tipo *Perro*, sin dueño\n",
    "* Comprueba que están bien todos sus atributos\n",
    "* Prueba que ande, y comprueba su velocidad\n",
    "* Páralo\n",
    "* Documenta la clase *Perro*"
   ]
  },
  {
   "cell_type": "code",
   "execution_count": 5,
   "metadata": {},
   "outputs": [
    {
     "ename": "SyntaxError",
     "evalue": "unterminated string literal (detected at line 22) (3072821982.py, line 22)",
     "output_type": "error",
     "traceback": [
      "\u001b[1;36m  Cell \u001b[1;32mIn[5], line 22\u001b[1;36m\u001b[0m\n\u001b[1;33m    ''''\u001b[0m\n\u001b[1;37m       ^\u001b[0m\n\u001b[1;31mSyntaxError\u001b[0m\u001b[1;31m:\u001b[0m unterminated string literal (detected at line 22)\n"
     ]
    }
   ],
   "source": [
    "class perro:\n",
    "    Orejas  = 2\n",
    "    Patas = 4 \n",
    "    Ojos = 2\n",
    "    Velocidad = 0 \n",
    "        \n",
    "    def __init__(self, raza:str, pelo = \"marron\", dueño = False, velocidad = 0):\n",
    "        self.velocidad = velocidad\n",
    "        self.raza = raza\n",
    "        self.pelo = pelo\n",
    "        self.dueño = dueño\n",
    "    #las funciones\n",
    "    def andar (self) -> int: \n",
    "        aumento_velocidad = int (input(\"Introduce un parámetro para la velocidad del perro \"))\n",
    "        anda = self.velocidad + aumento_velocidad\n",
    "\n",
    "        ''''\n",
    "        if anda > 0:\n",
    "            print (\"El perro anda\")\n",
    "        else:\n",
    "            print (\"El perro no anda\")\n",
    "        ''''\n",
    "\n",
    "    def parar (self) -> int: \n",
    "        \n",
    "        ''''\n",
    "        aumento_velocidad = int(input(\"Introduce un parámetro para la velocidad del perro \"))\n",
    "        anda = self.velocidad + aumento_velocidad\n",
    "        if anda == 0:\n",
    "            print (\"El perro está parado\")\n",
    "        else:\n",
    "            print (\"El perro no anda\")\n",
    "        ''''\n",
    "\n",
    "    def ladrar (self) -> str:  \n",
    "        llamada = str(input(\"Introduce el nombre por el que quieres que se le llame \"))\n",
    "        resultado = (f'{llamada} ladra! GUAU') \n",
    "        print (resultado)\n",
    "    \n",
    "   "
   ]
  },
  {
   "cell_type": "code",
   "execution_count": 145,
   "metadata": {},
   "outputs": [],
   "source": [
    "Goffy = perro (\"chucho\", )"
   ]
  },
  {
   "cell_type": "code",
   "execution_count": 146,
   "metadata": {},
   "outputs": [
    {
     "name": "stdout",
     "output_type": "stream",
     "text": [
      "El perro anda\n",
      "None\n",
      "El perro está parado\n",
      "None\n",
      " Blaki ladra! GUAU\n",
      "None\n"
     ]
    }
   ],
   "source": [
    "print(Goffy.andar())\n",
    "print(Goffy.parar())\n",
    "print(Goffy.ladrar())\n"
   ]
  },
  {
   "cell_type": "code",
   "execution_count": 148,
   "metadata": {},
   "outputs": [],
   "source": [
    "Blaki = perro (\"chucho\", dueño = False )"
   ]
  },
  {
   "cell_type": "code",
   "execution_count": 149,
   "metadata": {},
   "outputs": [
    {
     "name": "stdout",
     "output_type": "stream",
     "text": [
      "El perro anda\n",
      "None\n",
      "El perro está parado\n",
      "None\n",
      " Blaki ladra! GUAU\n",
      "None\n"
     ]
    }
   ],
   "source": [
    "print(Blaki.andar())\n",
    "print(Blaki.parar())\n",
    "print(Blaki.ladrar())"
   ]
  },
  {
   "cell_type": "code",
   "execution_count": 6,
   "metadata": {},
   "outputs": [
    {
     "ename": "NameError",
     "evalue": "name 'perro' is not defined",
     "output_type": "error",
     "traceback": [
      "\u001b[1;31m---------------------------------------------------------------------------\u001b[0m",
      "\u001b[1;31mNameError\u001b[0m                                 Traceback (most recent call last)",
      "\u001b[1;32mc:\\Users\\rival\\OneDrive\\Escritorio\\DS_PT_09_2023\\01-Ramp_Up\\02-Python\\01-Python\\5-OOP\\Practica\\Ejercicios Clases y Objetos.ipynb Cell 17\u001b[0m line \u001b[0;36m1\n\u001b[1;32m----> <a href='vscode-notebook-cell:/c%3A/Users/rival/OneDrive/Escritorio/DS_PT_09_2023/01-Ramp_Up/02-Python/01-Python/5-OOP/Practica/Ejercicios%20Clases%20y%20Objetos.ipynb#Y133sZmlsZQ%3D%3D?line=0'>1</a>\u001b[0m \u001b[39mprint\u001b[39m(perro\u001b[39m.\u001b[39m\u001b[39m__init__\u001b[39m\u001b[39m.\u001b[39m\u001b[39m__doc__\u001b[39m)\n",
      "\u001b[1;31mNameError\u001b[0m: name 'perro' is not defined"
     ]
    }
   ],
   "source": [
    "print(perro.__init__.__doc__)"
   ]
  }
 ],
 "metadata": {
  "kernelspec": {
   "display_name": "Python 3",
   "language": "python",
   "name": "python3"
  },
  "language_info": {
   "codemirror_mode": {
    "name": "ipython",
    "version": 3
   },
   "file_extension": ".py",
   "mimetype": "text/x-python",
   "name": "python",
   "nbconvert_exporter": "python",
   "pygments_lexer": "ipython3",
   "version": "3.11.5"
  }
 },
 "nbformat": 4,
 "nbformat_minor": 4
}
