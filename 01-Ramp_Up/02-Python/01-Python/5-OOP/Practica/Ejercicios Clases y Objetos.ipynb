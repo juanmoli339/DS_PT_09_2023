{
 "cells": [
  {
   "cell_type": "markdown",
   "metadata": {},
   "source": [
    "![imagen](./img/ejercicios.png)\n",
    "\n",
    "# Ejercicios Clases y Objetos"
   ]
  },
  {
   "cell_type": "markdown",
   "metadata": {},
   "source": [
    "## Ejercicio 1\n",
    "Somos una empresa que tiene varias tiendas de electrodomesticos. Necesitamos un programa para manejar las tiendas, ver las ventas que han tenido, cuántos empleados hay, etc... Para ello vamos a modelizar la tienda en una clase, que tendrá las siguientes características:\n",
    "* Nombre clase: \"Tienda\"\n",
    "* Atributos comunes:\n",
    "    * Tipo: \"Electrodomésticos\"\n",
    "    * Abierta: True\n",
    "* Atributos propios de cada tienda:\n",
    "    * Nombre - String\n",
    "    * Dirección - String\n",
    "    * Número de empleados - int\n",
    "    * Ventas ultimos 3 meses - Lista de 3 numeros\n",
    "* Método para calcular las ventas de todos los meses, que devuelva un numero con todas las ventas.\n",
    "* Método que calcula la media de ventas de los ultimos meses, por empleado\n",
    "* Método que devuelve en un string el nombre de la tienda, junto con su dirección.\n",
    "* Método que obtiene las ventas del último mes.\n",
    "* Método para dar una proyección de las ventas en caso de haber invertido X dinero en marketing en esa tienda. Siendo X el parámetro de entrada. Si X es menor de 1000, las ventas de los ultimos 3 meses hubiesen sido de (1.2 x ventas), si es mayor o igual de 1000, las ventas hubiesen sido de (1.5 x venta). El método reescribe el atributo de ventas en los últimos 3 meses, y además devuelve las ventas con el aumento.\n",
    "\n",
    "Se pide:\n",
    "1. Implementar la clase \"Tienda\"\n",
    "2. Crear tres tiendas con datos inventados\n",
    "3. Comprueba en al menos una de ellas, todo lo implementado en la clase tienda (sus atributos, media de ventas, ventas/empleado...)\n",
    "3. Calcular las ventas del último mes de todas las tiendas. Para ello usa el bucle `for`\n",
    "4. Imprime por pantalla los nombres de las tiendas cuya dirección lleve el string \"Avenida\"\n",
    "5. Seguro que ya has hecho este apartado... Documenta la clase :)"
   ]
  },
  {
   "cell_type": "markdown",
   "metadata": {},
   "source": [
    "HECHO POR MI "
   ]
  },
  {
   "cell_type": "code",
   "execution_count": 74,
   "metadata": {},
   "outputs": [],
   "source": [
    "class tienda:\n",
    "    tipo = 'electrodomésticos'\n",
    "    abierta = True\n",
    "\n",
    "    def __init__(self, nombre:str, direccion:str, numero_empleados:int, ventas:list):\n",
    "        self.nombre = nombre\n",
    "        self.direccion = direccion\n",
    "        self.numero_empleados = numero_empleados\n",
    "        self.ventas = ventas\n",
    "\n",
    "    def todas_ventas(self) -> int:\n",
    "            return sum(self.ventas)\n",
    "    def media_ventas(self) -> int:\n",
    "            return self.todas_ventas() / self.numero_empleados\n",
    "    def info(self) -> str:\n",
    "            return (f'El nombre es {self.nombre} y su direccion es {self.direccion}')\n",
    "    def ventas_ultimo(self) -> int:\n",
    "            return (self.ventas[2])    \n",
    "    def proyeccion (self, inversion) -> int:\n",
    "        #producto_inicial = 1\n",
    "        if inversion < 1000:\n",
    "                resultado =  self.todas_ventas() / self.numero_empleados * 1.2\n",
    "        elif inversion > 1000:\n",
    "                resultado =  self.todas_ventas() * 1.5 \n",
    "        else:\n",
    "                print (\"error\")  \n",
    "        return (resultado)"
   ]
  },
  {
   "cell_type": "code",
   "execution_count": 75,
   "metadata": {},
   "outputs": [
    {
     "name": "stdout",
     "output_type": "stream",
     "text": [
      "700\n",
      "21.875\n",
      "El nombre es Ikea Alcobendas y su direccion es Avenida_America\n",
      "160\n",
      "1050.0\n"
     ]
    }
   ],
   "source": [
    "Ikea = tienda (\"Ikea Alcobendas\", \"Avenida_America\", 32, [30,510,160])\n",
    "\n",
    "print (Ikea.todas_ventas())\n",
    "print (Ikea.media_ventas())\n",
    "print (Ikea.info())\n",
    "print (Ikea.ventas_ultimo())\n",
    "print (Ikea.proyeccion(1700))"
   ]
  },
  {
   "cell_type": "code",
   "execution_count": 83,
   "metadata": {},
   "outputs": [
    {
     "name": "stdout",
     "output_type": "stream",
     "text": [
      "120\n",
      "Chino\n"
     ]
    }
   ],
   "source": [
    "Ikea = tienda (\"Ikea Alcobendas\", \"avenida_America\", 32, [30,510,160])\n",
    "Carrefour = tienda (\"Carrefour Aluche\", \"Calle Zamora\", 23, [50, 310, 120])\n",
    "Maxichina = tienda (\"Chino\", \"avenida Alcalá\", 14, [50, 230, 120])\n",
    "\n",
    "total_tiendas = [Ikea, Carrefour, Maxichina] \n",
    "\n",
    "ventas_ultimo_mes = 0\n",
    "for elemento in total_tiendas:\n",
    "    total = ventas_ultimo_mes + elemento.ventas_ultimo()\n",
    "print(total)\n",
    "\n",
    "\n",
    "for elemento in total_tiendas:\n",
    "    if \"Avenida\" in elemento.direccion.lower():\n",
    "        print (elemento.nombre)\n",
    "\n",
    "print (elemento.nombre)"
   ]
  },
  {
   "cell_type": "markdown",
   "metadata": {},
   "source": [
    "HECHO POR MI II"
   ]
  },
  {
   "cell_type": "code",
   "execution_count": 43,
   "metadata": {},
   "outputs": [],
   "source": [
    "class tienda:\n",
    "    # aqui los atributos comunes\n",
    "    Tipo = \"Electrodomésticos\"\n",
    "    Abierta = True\n",
    "    pi = 3,14 # se pueden poner cosas que no se usan \n",
    "\n",
    "    # aqui va el constructor con atributos particulares de cada elemento/tienda\n",
    "\n",
    "    def __init__(self, nombre:str, direccion:str, numero_empleados:int, ventas_tres_meses:list):\n",
    "        self.nombre = nombre\n",
    "        self.direccion = direccion\n",
    "        self.numero_empleados = numero_empleados\n",
    "        self.ventas_tres_meses = ventas_tres_meses\n",
    "    #las funciones\n",
    "\n",
    "    def total_ventas(self) -> int: # la funcion sum, para sumar todas las ventas de la lista \n",
    "        suma_ventas = sum(self.ventas_tres_meses)\n",
    "        print (self.ventas_tres_meses)\n",
    "        return (f'Las ventas totales son : {suma_ventas}')\n",
    "    \n",
    "    # esta mal !!!! no es entre tres \n",
    "    def media_ventas(self) -> int: \n",
    "        media = sum(self.ventas_tres_meses)/3\n",
    "        return (f'La media de ventas es : {media}')\n",
    "    # otra forma total ventas entre numero de empeleados usando el anterior variable que nos ha dado \n",
    "    \n",
    "    def informacion(self) -> str:\n",
    "        return (f'El nombre de la tienda es: {self.nombre} y su dirección es :{self.direccion }')\n",
    "    \n",
    "    def ultimo_mes(self) -> int:\n",
    "        return (self.ventas_tres_meses [-1]) \n",
    "    \n",
    "    def proyeccion(self) -> int:\n",
    "        inyeccion = int(input (\"Ingresa la inyeccion que vas a invertir \"))\n",
    "        producto_inicial = 1\n",
    "        if inyeccion < 1000: \n",
    "            for elementos in self.ventas_tres_meses:\n",
    "                nuevo_valor = elementos * producto_inicial * 1.2 \n",
    "        elif inyeccion >= 1000:  \n",
    "            for elementos in self.ventas_tres_meses:\n",
    "                nuevo_valor = elementos * producto_inicial * 1.5\n",
    "        else:\n",
    "            print (\"introduce valor correcto\")\n",
    "        return (nuevo_valor)\n",
    "    "
   ]
  },
  {
   "cell_type": "code",
   "execution_count": 44,
   "metadata": {},
   "outputs": [],
   "source": [
    "Ikea = tienda (\"Ikea Alcobendas\", \"Avenida_America\", 32, [30,510,160])\n",
    "Carrefour = tienda (\"Carrefour Aluche\", \"Calle Zamora\", 23, [50, 310, 120])\n",
    "Maxichina = tienda (\"Chino\", \"Avenida Alcalá\", 14, [50, 230, 120])"
   ]
  },
  {
   "cell_type": "code",
   "execution_count": null,
   "metadata": {},
   "outputs": [],
   "source": [
    "print (Ikea.nombre)\n",
    "print (Carrefour.nombre) \n",
    "print (Maxichina.nombre)"
   ]
  },
  {
   "cell_type": "code",
   "execution_count": null,
   "metadata": {},
   "outputs": [],
   "source": [
    "print(Ikea.total_ventas())  \n",
    "print(Ikea.media_ventas())  \n",
    "print(Ikea.informacion())\n",
    "print(Ikea.ultimo_mes())\n",
    "print(Ikea.proyeccion()) # ver el de Juan, poniendo la proyeccion \n",
    "\n",
    "print(Carrefour.total_ventas())  \n",
    "print(Carrefour.media_ventas())  \n",
    "print(Carrefour.informacion())\n",
    "print(Carrefour.ultimo_mes())\n",
    "print(Carrefour.proyeccion()) # ver el de Juan, poniendo la proyeccion \n",
    "\n",
    "print(Maxichina.total_ventas())  \n",
    "print(Maxichina.media_ventas())  \n",
    "print(Maxichina.informacion())\n",
    "print(Maxichina.ultimo_mes())\n",
    "print(Maxichina.proyeccion()) # ver el de Juan, poniendo la proyeccion "
   ]
  },
  {
   "cell_type": "markdown",
   "metadata": {},
   "source": [
    "# HECHO POR JUAN PROFESOR "
   ]
  },
  {
   "cell_type": "code",
   "execution_count": 63,
   "metadata": {},
   "outputs": [],
   "source": [
    "# HECHO POR JUAN \n",
    "class tienda:\n",
    "    Tipo = \"Electrodomésticos\"\n",
    "    Abierta = True\n",
    "    pi = 3,14  \n",
    "\n",
    "    def __init__(self, nombre:str, direccion:str, numero_empleados:int, ventas_tres_meses:list):\n",
    "        self.nombre = nombre\n",
    "        self.direccion = direccion\n",
    "        self.numero_empleados = numero_empleados\n",
    "        self.ventas_tres_meses = ventas_tres_meses\n",
    "    \n",
    "    def total_ven(self) -> int: \n",
    "        return sum(self.ventas_tres_meses)\n",
    "    def media_ven(self) -> int:\n",
    "        return self.total_ven () / self.numero_empleados\n",
    "    def info(self) -> str:\n",
    "        return \"Nombre de la tienda: \" + self.nombre + \"\\n Direccion: \" + self.direccion\n",
    "    def ultimo_m(self) -> int:\n",
    "        return (self.ventas_tres_meses[-1])\n",
    "    \n",
    "    def proyecc(self, marketing) -> int:\n",
    "        for i in range (len(self.ventas_tres_meses)):\n",
    "            if marketing < 1000:\n",
    "                self.ventas_tres_meses[i] = self.ventas_tres_meses[i] * 1.2\n",
    "            if marketing >= 1000:\n",
    "                self.ventas_tres_meses[i] = self.ventas_tres_meses[i] * 1.5\n",
    "        return self.ventas_tres_meses"
   ]
  },
  {
   "cell_type": "code",
   "execution_count": 64,
   "metadata": {},
   "outputs": [
    {
     "name": "stdout",
     "output_type": "stream",
     "text": [
      "1415\n",
      "44.21875\n",
      "Nombre de la tienda: Ikea Alcobendas\n",
      " Direccion: Avenida_America\n",
      "600\n",
      "[462.0, 760.5, 900.0]\n",
      "[462.0, 760.5, 900.0]\n"
     ]
    }
   ],
   "source": [
    "Ikea = tienda (\"Ikea Alcobendas\", \"Avenida_America\", 32, [308 ,507 ,600])\n",
    "\n",
    "print (Ikea.total_ven())\n",
    "print (Ikea.media_ven())\n",
    "print (Ikea.info())\n",
    "print (Ikea.ultimo_m())\n",
    "print (Ikea.proyecc(1200))\n",
    "print (Ikea.ventas_tres_meses)"
   ]
  },
  {
   "cell_type": "code",
   "execution_count": 65,
   "metadata": {},
   "outputs": [],
   "source": [
    "Ikea = tienda (\"Ikea Alcobendas\", \"avenida_America\", 32, [30,510,160])\n",
    "Carrefour = tienda (\"Carrefour Aluche\", \"aalle Zamora\", 23, [50, 310, 120])\n",
    "Maxichina = tienda (\"Chino\", \"avenida Alcalá\", 14, [50, 230, 120])"
   ]
  },
  {
   "cell_type": "code",
   "execution_count": 66,
   "metadata": {},
   "outputs": [
    {
     "name": "stdout",
     "output_type": "stream",
     "text": [
      "120\n"
     ]
    }
   ],
   "source": [
    "# se pide:\n",
    "# 4\n",
    "\n",
    "total_tiendas = [Ikea, Carrefour, Maxichina]\n",
    "    \n",
    "ventas_ultimo_mes = 0\n",
    "for elemento in total_tiendas:\n",
    "    total = ventas_ultimo_mes + elemento.ultimo_m()\n",
    "print(total)"
   ]
  },
  {
   "cell_type": "code",
   "execution_count": 67,
   "metadata": {},
   "outputs": [
    {
     "name": "stdout",
     "output_type": "stream",
     "text": [
      "[160, 120, 120]\n"
     ]
    }
   ],
   "source": [
    "total_tiendas = [Ikea, Carrefour, Maxichina]\n",
    "    \n",
    "ventas_ultimo_mes = []\n",
    "for elemento in total_tiendas:\n",
    "    ventas_ultimo_mes.append(elemento.ultimo_m())\n",
    "print (ventas_ultimo_mes)"
   ]
  },
  {
   "cell_type": "code",
   "execution_count": 71,
   "metadata": {},
   "outputs": [
    {
     "name": "stdout",
     "output_type": "stream",
     "text": [
      "Chino\n"
     ]
    }
   ],
   "source": [
    "# 5\n",
    "\n",
    "total_tiendas = [Ikea, Carrefour, Maxichina]\n",
    "\n",
    "for elementos in total_tiendas:\n",
    "    if \"Avenida\" in elementos.direccion.lower():\n",
    "        print (elementos.nombre)\n",
    "print (elementos.nombre)"
   ]
  },
  {
   "cell_type": "markdown",
   "metadata": {},
   "source": [
    "## Ejercicio 2\n",
    "En este ejercicio vamos a implementar una clase *Perro* en Python. La clase tiene las siguientes características:\n",
    "* Cosas que sabemos seguro que tiene un perro\n",
    "    * Tiene 4 patas\n",
    "    * 2 orejas\n",
    "    * 2 ojos\n",
    "    * Una velocidad de 0. Por defecto, el perro está parado\n",
    "* Cuando se inicialice:\n",
    "    * El perro será de una determinada raza\n",
    "    * Por defecto tendrá pelo \"Marrón\", a no ser que se diga lo contrario.\n",
    "    * Por defecto no tendrá dueño, a no ser que se diga lo contrario.\n",
    "    \n",
    "* Dispondrá también de un método llamado andar, que tiene un argumento de entrada (aumento_velocidad). Este valor se le sumará a la velocidad que ya llevaba el perro.\n",
    "* Necesita otro método (parar), donde pondremos la velocidad a 0.\n",
    "* Otro método llamado \"ladrar\", que tendrá un argumento de entrada, y la salida será el siguiente string: \"GUAU!\" + el argumento de entrada.\n",
    "\n",
    "\n",
    "Se pide:\n",
    "* Implementa la clase *Perro*\n",
    "* Crea un objeto de tipo *Perro*, sin dueño\n",
    "* Comprueba que están bien todos sus atributos\n",
    "* Prueba que ande, y comprueba su velocidad\n",
    "* Páralo\n",
    "* Documenta la clase *Perro*"
   ]
  },
  {
   "cell_type": "markdown",
   "metadata": {},
   "source": [
    "### HECHO POR MI "
   ]
  },
  {
   "cell_type": "code",
   "execution_count": null,
   "metadata": {},
   "outputs": [],
   "source": [
    "class perro:\n",
    "    Orejas  = 2\n",
    "    Patas = 4 \n",
    "    Ojos = 2\n",
    "    Velocidad = 0 \n",
    "        \n",
    "    def __init__(self, raza:str, pelo = \"marron\", dueño = False, velocidad = 0):\n",
    "        self.velocidad = velocidad\n",
    "        self.raza = raza\n",
    "        self.pelo = pelo\n",
    "        self.dueño = dueño\n",
    "    #las funciones\n",
    "    def andar (self) -> int: \n",
    "        aumento_velocidad = int (input(\"Introduce un parámetro para la velocidad del perro \"))\n",
    "        anda = self.velocidad + aumento_velocidad\n",
    "\n",
    "        ''''\n",
    "        if anda > 0:\n",
    "            print (\"El perro anda\")\n",
    "        else:\n",
    "            print (\"El perro no anda\")\n",
    "        ''''\n",
    "\n",
    "    def parar (self) -> int: \n",
    "        \n",
    "        ''''\n",
    "        aumento_velocidad = int(input(\"Introduce un parámetro para la velocidad del perro \"))\n",
    "        anda = self.velocidad + aumento_velocidad\n",
    "        if anda == 0:\n",
    "            print (\"El perro está parado\")\n",
    "        else:\n",
    "            print (\"El perro no anda\")\n",
    "        ''''\n",
    "\n",
    "    def ladrar (self) -> str:  \n",
    "        llamada = str(input(\"Introduce el nombre por el que quieres que se le llame \"))\n",
    "        resultado = (f'{llamada} ladra! GUAU') \n",
    "        print (resultado)\n",
    "    \n",
    "   "
   ]
  },
  {
   "cell_type": "code",
   "execution_count": 145,
   "metadata": {},
   "outputs": [],
   "source": [
    "Goffy = perro (\"chucho\", )"
   ]
  },
  {
   "cell_type": "code",
   "execution_count": null,
   "metadata": {},
   "outputs": [],
   "source": [
    "print(Goffy.andar())\n",
    "print(Goffy.parar())\n",
    "print(Goffy.ladrar())\n"
   ]
  },
  {
   "cell_type": "code",
   "execution_count": 148,
   "metadata": {},
   "outputs": [],
   "source": [
    "Blaki = perro (\"chucho\", dueño = False )"
   ]
  },
  {
   "cell_type": "code",
   "execution_count": null,
   "metadata": {},
   "outputs": [],
   "source": [
    "print(Blaki.andar())\n",
    "print(Blaki.parar())\n",
    "print(Blaki.ladrar())"
   ]
  },
  {
   "cell_type": "code",
   "execution_count": null,
   "metadata": {},
   "outputs": [],
   "source": [
    "print(perro.__init__.__doc__)"
   ]
  },
  {
   "cell_type": "markdown",
   "metadata": {},
   "source": [
    "### HECHO POR MI II + clase Juan profe"
   ]
  },
  {
   "cell_type": "code",
   "execution_count": 103,
   "metadata": {},
   "outputs": [],
   "source": [
    "class perro:\n",
    "    Patas = 4 \n",
    "    Orejas  = 2\n",
    "    Ojos = 2\n",
    "    Velocidad = 0 \n",
    "\n",
    "    def __init__ (self, raza:str, pelo = 'marron', dueño = False):\n",
    "        self.raza = raza\n",
    "        self.pelo = pelo \n",
    "        self.dueño = dueño\n",
    "    \n",
    "    def andar (self, aumento_velocidad) -> int:\n",
    "        self.Velocidad = self.Velocidad + aumento_velocidad\n",
    "        return self.Velocidad \n",
    "    def parar (self) -> int:\n",
    "        self.Velocidad = 0\n",
    "        return self.Velocidad\n",
    "    def ladrar (self, mensaje) -> str:\n",
    "        return ('GUAU' + mensaje)\n",
    "\n"
   ]
  },
  {
   "cell_type": "code",
   "execution_count": null,
   "metadata": {},
   "outputs": [],
   "source": [
    "Blaki = perro (\"chucho de la calle\", dueño = False )\n",
    "\n",
    "print(Blaki.andar(8))\n",
    "print(Blaki.parar())\n",
    "print(Blaki.ladrar(' vamos loco'))"
   ]
  }
 ],
 "metadata": {
  "kernelspec": {
   "display_name": "Python 3",
   "language": "python",
   "name": "python3"
  },
  "language_info": {
   "codemirror_mode": {
    "name": "ipython",
    "version": 3
   },
   "file_extension": ".py",
   "mimetype": "text/x-python",
   "name": "python",
   "nbconvert_exporter": "python",
   "pygments_lexer": "ipython3",
   "version": "3.11.5"
  }
 },
 "nbformat": 4,
 "nbformat_minor": 4
}
