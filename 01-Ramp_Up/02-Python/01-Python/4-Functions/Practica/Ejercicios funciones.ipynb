{
 "cells": [
  {
   "cell_type": "markdown",
   "metadata": {},
   "source": [
    "![imagen](./img/ejercicios.png)"
   ]
  },
  {
   "cell_type": "markdown",
   "metadata": {},
   "source": [
    "# Ejercicios funciones\n",
    "## Ejercicio 1\n",
    "Escribe una función que convierta números del 1 al 7 en nombres de los dias de la semana. La función constará de un único argumento numérico y una salida de tipo string"
   ]
  },
  {
   "cell_type": "code",
   "execution_count": 1,
   "metadata": {},
   "outputs": [
    {
     "name": "stdout",
     "output_type": "stream",
     "text": [
      "Es miercoles\n"
     ]
    }
   ],
   "source": [
    "def nombres_semana (numero:int):\n",
    "    if numero == 1:\n",
    "        print (\"Es lunes\")\n",
    "    elif numero == 2:\n",
    "        print (\"Es martes\")\n",
    "    elif numero == 3:\n",
    "        print (\"Es miercoles\")\n",
    "    elif numero == 4:\n",
    "        print (\"Es jueves\")\n",
    "    elif numero == 5:\n",
    "        print (\"Es viernes\")\n",
    "    elif numero == 6:\n",
    "        print (\"Es sabado\")\n",
    "    elif numero == 7:\n",
    "        print (\"Es domingo\")\n",
    "    else:\n",
    "        print (\"introduce un numero del 1 al 7\")\n",
    "nombres_semana (3)\n",
    "    "
   ]
  },
  {
   "cell_type": "code",
   "execution_count": 3,
   "metadata": {},
   "outputs": [
    {
     "data": {
      "text/plain": [
       "'Viernes'"
      ]
     },
     "execution_count": 3,
     "metadata": {},
     "output_type": "execute_result"
    }
   ],
   "source": [
    "def dia_de_la_semana (numero):\n",
    "    dict = {1: \"Lunes\", 2: \"Martes\", 3: \"Miercoles\", 4: \"Jueves\", 5: \"Viernes\", 6: \"sabado\", 7: \"domingo\"}\n",
    "    \n",
    "    if numero in dict:\n",
    "        return dict [numero]\n",
    "    else:\n",
    "        print (\"introduce un numero correcto\")\n",
    "dia_de_la_semana (5)"
   ]
  },
  {
   "cell_type": "code",
   "execution_count": 6,
   "metadata": {},
   "outputs": [],
   "source": [
    "def dia_semana(numero):\n",
    "    dicc = {1: \"Lunes\", 2: \"Martes\", 3: \"Miercoles\", 4: \"Jueves\", 5: \"Viernes\", 6: \"sabado\", 7: \"domingo\"}\n",
    "\n",
    "    if numero in dicc:\n",
    "        return dicc.get(numero, 'eso no esxiste')\n",
    "dia_de_la_semana(9)"
   ]
  },
  {
   "cell_type": "markdown",
   "metadata": {},
   "source": []
  },
  {
   "cell_type": "markdown",
   "metadata": {},
   "source": []
  },
  {
   "cell_type": "code",
   "execution_count": null,
   "metadata": {},
   "outputs": [],
   "source": [
    "# una forma \n",
    "def nombres_semana (numero):\n",
    "    if numero == 1:\n",
    "        print (\"es lunes\")\n",
    "    elif numero == 2:\n",
    "# otra forma \n",
    "def dia_semana(dia_num):\n",
    "    dicc = {1: 'lunes', 2:'martes'}\n",
    "\n",
    "    if dia_num in dicc:\n",
    "        return dicc [dia_num]\n",
    "# y otra\n",
    "        return dicc.get(dia_num, 'eso no esxiste')      "
   ]
  },
  {
   "cell_type": "code",
   "execution_count": null,
   "metadata": {},
   "outputs": [],
   "source": [
    "\n",
    "\n"
   ]
  },
  {
   "cell_type": "code",
   "execution_count": null,
   "metadata": {},
   "outputs": [],
   "source": []
  },
  {
   "cell_type": "markdown",
   "metadata": {},
   "source": [
    "## Ejercicio 2\n",
    "En el ejercicio 8 de bucles, creábamos una pirámide invertida, cuyo número de pisos venía determinado por un input del usuario. Crea una función que replique el comportamiento de la pirámide, y utiliza un único parámetro de entrada de la función para determinar el número de filas de la pirámide, es decir, elimina la sentencia input."
   ]
  },
  {
   "cell_type": "code",
   "execution_count": null,
   "metadata": {},
   "outputs": [],
   "source": [
    "numero_usuario = int(input(\"Introduzca un numero\"))\n",
    "\n",
    "lista = list(range(numero_usuario,0,-1))\n",
    "\n",
    "while len(int(numero_usuario)) > 0:\n",
    "    print (*list)\n",
    "    list.pop(0)"
   ]
  },
  {
   "cell_type": "code",
   "execution_count": 26,
   "metadata": {},
   "outputs": [
    {
     "name": "stdout",
     "output_type": "stream",
     "text": [
      "1 2 3 4 5\n",
      "2 3 4 5\n",
      "3 4 5\n",
      "4 5\n",
      "5\n"
     ]
    }
   ],
   "source": [
    "lista = list(range(1,6))\n",
    "while len(lista) > 0:\n",
    "    print (*lista)\n",
    "    lista.pop(0)"
   ]
  },
  {
   "cell_type": "code",
   "execution_count": null,
   "metadata": {},
   "outputs": [],
   "source": []
  },
  {
   "cell_type": "code",
   "execution_count": null,
   "metadata": {},
   "outputs": [],
   "source": []
  },
  {
   "cell_type": "code",
   "execution_count": null,
   "metadata": {},
   "outputs": [],
   "source": []
  },
  {
   "cell_type": "code",
   "execution_count": 23,
   "metadata": {},
   "outputs": [
    {
     "name": "stdout",
     "output_type": "stream",
     "text": [
      "10\n",
      "10 9 8 7 6 5 4 3 2 1\n",
      "10 9 8 7 6 5 4 3 2\n",
      "10 9 8 7 6 5 4 3\n",
      "10 9 8 7 6 5 4\n",
      "10 9 8 7 6 5\n",
      "10 9 8 7 6\n",
      "10 9 8 7\n",
      "10 9 8\n",
      "10 9\n",
      "10\n"
     ]
    }
   ],
   "source": [
    "lista_del_diez_al_cero = list(range(10, 0, -1))\n",
    "print (len(lista_del_diez_al_cero))\n",
    "while len(lista_del_diez_al_cero) > 0:\n",
    "    print(*lista_del_diez_al_cero)\n",
    "    lista_del_diez_al_cero.pop(len(lista_del_diez_al_cero)-1)\n"
   ]
  },
  {
   "cell_type": "markdown",
   "metadata": {},
   "source": [
    "## Ejercicio 3\n",
    "Escibe una función que compare dos números. La función tiene dos argumentos y hay tres salidas posibles: que sean iguales, que el primero se  mayor que el segundo, o que el segundo sea mayor que el primero"
   ]
  },
  {
   "cell_type": "code",
   "execution_count": 51,
   "metadata": {},
   "outputs": [
    {
     "name": "stdout",
     "output_type": "stream",
     "text": [
      "El primer numero es mayor que el segundo\n"
     ]
    }
   ],
   "source": [
    "def comparacion (numero_uno:float, numero_dos:float):\n",
    "    if numero_uno == numero_dos:\n",
    "        print (\"Los dos números son iguales\")\n",
    "    elif numero_uno > numero_dos:\n",
    "        print (\"El primer numero es mayor que el segundo\")\n",
    "    elif numero_uno < numero_dos:\n",
    "        print (\"El primer numero es menor que el segundo\")\n",
    "    else: \n",
    "        print (\"loco\")\n",
    "\n",
    "comparacion (7,5)\n",
    "\n",
    "    "
   ]
  },
  {
   "cell_type": "code",
   "execution_count": null,
   "metadata": {},
   "outputs": [],
   "source": []
  },
  {
   "cell_type": "code",
   "execution_count": null,
   "metadata": {},
   "outputs": [],
   "source": []
  },
  {
   "cell_type": "code",
   "execution_count": null,
   "metadata": {},
   "outputs": [],
   "source": []
  },
  {
   "cell_type": "markdown",
   "metadata": {},
   "source": [
    "## Ejercicio 4\n",
    "Escribe una función que sea un contador de letras. En el primer argumento tienes que introducir un texto, y el segundo que sea la letra a contar. La función tiene que devolver un entero con el número de veces que aparece esa letra, tanto mayuscula, como minúscula"
   ]
  },
  {
   "cell_type": "code",
   "execution_count": null,
   "metadata": {},
   "outputs": [],
   "source": [
    "texto = 'Hola'\n",
    "contador = 0\n",
    "def contador (texto:str):\n",
    "    for letra in texto:\n",
    "        if letra.isalpha():\n",
    "            contador = contador + 1 \n",
    " "
   ]
  },
  {
   "cell_type": "code",
   "execution_count": 34,
   "metadata": {},
   "outputs": [
    {
     "name": "stdout",
     "output_type": "stream",
     "text": [
      "4\n"
     ]
    }
   ],
   "source": [
    "texto = 'Hola'\n",
    "\n",
    "def contador_letras (texto:str):\n",
    "    contador = 0\n",
    "    for letra in texto:\n",
    "        if letra.isalpha():\n",
    "            contador = contador + 1\n",
    "    print(contador)\n",
    "\n",
    "contador_letras(texto)"
   ]
  },
  {
   "cell_type": "code",
   "execution_count": null,
   "metadata": {},
   "outputs": [],
   "source": [
    "# otra forma \n",
    "def conteo (texto, letra):\n",
    "    texto = texto.lower() # para convertir todas las letras en minúsculas, por si hubiera alguna mayúscula y asi se cuentan todas.\n",
    "    return texto.count(letra.lower())\n",
    "\n",
    "conteo('hola caracola, no veas lo que mola', 'a')"
   ]
  },
  {
   "cell_type": "markdown",
   "metadata": {},
   "source": [
    "## Ejercicio 5\n",
    "Escribe una función que tenga un único argumento, un string. La salida de la función tiene que ser un diccionario con el conteo de todas las letras de ese string."
   ]
  },
  {
   "cell_type": "code",
   "execution_count": 1,
   "metadata": {},
   "outputs": [],
   "source": [
    "def conteo (texto:str):\n",
    "    \n",
    "    diccionario = {}\n",
    "\n",
    "    for letras in texto.lower(): \n",
    "        if letras == ' ':\n",
    "            continue\n",
    "        if letras in diccionario:\n",
    "            diccionario[letras] = diccionario[letras] + 1\n",
    "        else:\n",
    "            diccionario[letras] = 1\n",
    "    \n",
    "    return (diccionario)"
   ]
  },
  {
   "cell_type": "code",
   "execution_count": 2,
   "metadata": {},
   "outputs": [
    {
     "data": {
      "text/plain": [
       "{'b': 1, 'i': 2, 'e': 2, 'n': 2, 'v': 1, 'd': 1, 'o': 1}"
      ]
     },
     "execution_count": 2,
     "metadata": {},
     "output_type": "execute_result"
    }
   ],
   "source": [
    "conteo ('bienvenido')"
   ]
  },
  {
   "cell_type": "markdown",
   "metadata": {},
   "source": [
    "## Ejercicio 6\n",
    "Escribir una función que añada o elimine elementos en una lista. La función necesita los siguientes argumentos:\n",
    "* lista: la lista donde se añadirán o eliminarán los elementos\n",
    "* comando: \"add\" o \"remove\"\n",
    "* elemento: Por defecto es None."
   ]
  },
  {
   "cell_type": "code",
   "execution_count": null,
   "metadata": {},
   "outputs": [],
   "source": []
  },
  {
   "cell_type": "markdown",
   "metadata": {},
   "source": [
    "## Ejercicio 7\n",
    "Crea una función que reciba un número arbitrario de palabras, y devuelva una frase completa, separando las palabras con espacios."
   ]
  },
  {
   "cell_type": "code",
   "execution_count": null,
   "metadata": {},
   "outputs": [],
   "source": [
    "\n"
   ]
  },
  {
   "cell_type": "code",
   "execution_count": null,
   "metadata": {},
   "outputs": [],
   "source": []
  },
  {
   "cell_type": "code",
   "execution_count": null,
   "metadata": {},
   "outputs": [],
   "source": [
    "def junta_pa (*args):\n",
    "    "
   ]
  },
  {
   "cell_type": "code",
   "execution_count": 3,
   "metadata": {},
   "outputs": [],
   "source": [
    "def junta_palabras (*args):\n",
    "    return \" \".join(*args)\n"
   ]
  },
  {
   "cell_type": "code",
   "execution_count": 4,
   "metadata": {},
   "outputs": [
    {
     "data": {
      "text/plain": [
       "'H o l a   J u a n   q u e   t a l'"
      ]
     },
     "execution_count": 4,
     "metadata": {},
     "output_type": "execute_result"
    }
   ],
   "source": [
    "junta_palabras ('Hola Juan que tal')"
   ]
  },
  {
   "cell_type": "markdown",
   "metadata": {},
   "source": [
    "## Ejercicio 8\n",
    "Escribe un programa que obtenga el enésimo número de la [serie de Fibonacci](https://es.wikipedia.org/wiki/Sucesi%C3%B3n_de_Fibonacci). Tienes que crear una función recursiva con un único argumento.\n",
    "\n",
    "```Python\n",
    "fibonacci(2) = 1\n",
    "fibonacci(4) = 3\n",
    "fibonacci(5) = 5\n",
    "fibonacci(8) = 21\n",
    "```"
   ]
  },
  {
   "cell_type": "code",
   "execution_count": null,
   "metadata": {},
   "outputs": [],
   "source": []
  },
  {
   "cell_type": "code",
   "execution_count": null,
   "metadata": {},
   "outputs": [],
   "source": []
  },
  {
   "cell_type": "markdown",
   "metadata": {},
   "source": [
    "## Ejercicio 9\n",
    "Define en una única celda las siguientes funciones:\n",
    "* Función que calcule el área de un cuadrado\n",
    "* Función que calcule el area de un triángulo\n",
    "* Función que calcule el área de un círculo\n",
    "\n",
    "En otra celda, calcular el area de:\n",
    "* Dos círculos de radio 10 + un triángulo de base 3 y altura 7\n",
    "* Un cuadrado de lado = 10 + 3 círculos (uno de radio = 4 y los otros dos de radio = 6) + 5 triángulos de base = 2 + altura = 4"
   ]
  },
  {
   "cell_type": "code",
   "execution_count": null,
   "metadata": {},
   "outputs": [],
   "source": []
  },
  {
   "cell_type": "code",
   "execution_count": null,
   "metadata": {},
   "outputs": [],
   "source": []
  },
  {
   "cell_type": "code",
   "execution_count": null,
   "metadata": {},
   "outputs": [],
   "source": []
  },
  {
   "cell_type": "code",
   "execution_count": null,
   "metadata": {},
   "outputs": [],
   "source": []
  },
  {
   "cell_type": "code",
   "execution_count": null,
   "metadata": {},
   "outputs": [],
   "source": []
  }
 ],
 "metadata": {
  "kernelspec": {
   "display_name": "Python 3",
   "language": "python",
   "name": "python3"
  },
  "language_info": {
   "codemirror_mode": {
    "name": "ipython",
    "version": 3
   },
   "file_extension": ".py",
   "mimetype": "text/x-python",
   "name": "python",
   "nbconvert_exporter": "python",
   "pygments_lexer": "ipython3",
   "version": "3.11.5"
  }
 },
 "nbformat": 4,
 "nbformat_minor": 4
}
