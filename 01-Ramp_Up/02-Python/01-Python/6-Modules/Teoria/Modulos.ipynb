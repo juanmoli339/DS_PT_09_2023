{
 "cells": [
  {
   "cell_type": "markdown",
   "metadata": {},
   "source": [
    "![imagen](./img/python.jpg)\n",
    "\n",
    "# Módulos y bibliotecas en Python\n",
    "\n",
    "\n",
    "Hasta ahora hemos desarrollado programas no muy complicados que cabían en una celda de un Notebook, pero poco a poco se va complicando más la cosa. ¿Qué ocurrirá cuando tengamos varias Clases definidas, funciones, datos declarados, llamadas a paginas web...? ¿Lo vamos a tener todo en una celda/Notebook? Para ayudarnos con esto utilizaremos la sentencia `import`, pudiendo dividir nuestro programa en varios scripts de Python, y no solo eso, sino que tendremos también la opción de usar librerías de terceros en nuestro código, lo que va a ayudar mucho en el desarrollo.\n",
    "\n",
    "Para este Notebook se recomienda tener otro IDE como VSCode, Spyder o Pycharm.\n",
    "\n",
    "1. [import](#1.-import)\n",
    "2. [Bibliotecas](#2.-Bibliotecas)\n",
    "3. [Resumen](#3.-Resumen)"
   ]
  },
  {
   "cell_type": "markdown",
   "metadata": {},
   "source": [
    "## 1. import\n",
    "Recuerda que hay que **evitar en la medida de lo posible tener código repetido o duplicado**, por lo que funcionalidades que uses en diferentes partes del código no tendrás que copiar y pegarlas en todos lados, sino que existe la posibilidad de definirlas una sola vez, e importarlas después.\n",
    "\n",
    "Por tanto, según vamos complicando nuestros programas, surge la necesidad de modularizarlo, es decir, poder dividirlo y paquetizarlo. Como habrás podido imaginar, programas productivos como una página web o un juego, no van en un Notebook, sino en varios scripts de Python. Según las diferentes funcionalidades del código, lo iremos dividiendo en varias partes. Por ejemplo, en un script pueden ir funciones auxiliares, en otro constantes, en otro tus Clases... Veamos algunos conceptos\n",
    "\n",
    "**Script**\n",
    "\n",
    "No es más que un archivo con código Python. Estos archivos tienen la extensión `.py`, por lo que un ejemplo podría ser `primer_script.py`.\n",
    "\n",
    "**Módulo/Biblioteca/Librería/Paquete**\n",
    "\n",
    "Son términos parecidos que se suelen utilizar para referirse a lo mismo. A efectos prácticos, los consideraremos igual. Se trata de paquetes de código que tienen una funcionalidad bien definida y podremos importar en nuestros programas de Python, utilizando lo que haya dentro (clases, funciones, variables...).\n",
    "\n",
    "**import**\n",
    "\n",
    "Palabra reservada y sentencia que se usa en Python para importar cualquier objeto en nuestro código. Se usa para importar variables, funciones o módulos.\n",
    "\n",
    "Veamos cómo podemos importar objetos de otros scripts"
   ]
  },
  {
   "cell_type": "code",
   "execution_count": 1,
   "metadata": {},
   "outputs": [
    {
     "name": "stdout",
     "output_type": "stream",
     "text": [
      "Overwriting primer_script.py\n"
     ]
    }
   ],
   "source": [
    "%%file primer_script.py\n",
    "\"\"\"\n",
    "Example of a python module. Contains a variable called my_variable,\n",
    "a function called my_function, and a class called MyClass.\n",
    "\"\"\"\n",
    "\n",
    "my_variable = 0\n",
    "\n",
    "def my_function() -> int:\n",
    "    \"\"\"\n",
    "    Example function\n",
    "    \"\"\"\n",
    "    return my_variable\n",
    "    \n",
    "class MyClass:\n",
    "    \"\"\"\n",
    "    Example class.\n",
    "    \"\"\"\n",
    "\n",
    "    def __init__(self):\n",
    "        self.variable = my_variable\n",
    "        \n",
    "    def set_variable(self, new_value: int) -> None:\n",
    "        \"\"\"\n",
    "        Set self.variable to a new value\n",
    "        \"\"\"\n",
    "        self.variable = new_value\n",
    "        \n",
    "    def get_variable(self) -> int:\n",
    "        return self.variable"
   ]
  },
  {
   "cell_type": "markdown",
   "metadata": {},
   "source": [
    "Tenemos en otro script una variable, una función y una clase definida. Ahora lo importamos"
   ]
  },
  {
   "cell_type": "code",
   "execution_count": 2,
   "metadata": {},
   "outputs": [
    {
     "name": "stdout",
     "output_type": "stream",
     "text": [
      "Help on module primer_script:\n",
      "\n",
      "NAME\n",
      "    primer_script\n",
      "\n",
      "DESCRIPTION\n",
      "    Example of a python module. Contains a variable called my_variable,\n",
      "    a function called my_function, and a class called MyClass.\n",
      "\n",
      "CLASSES\n",
      "    builtins.object\n",
      "        MyClass\n",
      "    \n",
      "    class MyClass(builtins.object)\n",
      "     |  Example class.\n",
      "     |  \n",
      "     |  Methods defined here:\n",
      "     |  \n",
      "     |  __init__(self)\n",
      "     |      Initialize self.  See help(type(self)) for accurate signature.\n",
      "     |  \n",
      "     |  get_variable(self) -> int\n",
      "     |  \n",
      "     |  set_variable(self, new_value: int) -> None\n",
      "     |      Set self.variable to a new value\n",
      "     |  \n",
      "     |  ----------------------------------------------------------------------\n",
      "     |  Data descriptors defined here:\n",
      "     |  \n",
      "     |  __dict__\n",
      "     |      dictionary for instance variables (if defined)\n",
      "     |  \n",
      "     |  __weakref__\n",
      "     |      list of weak references to the object (if defined)\n",
      "\n",
      "FUNCTIONS\n",
      "    my_function() -> int\n",
      "        Example function\n",
      "\n",
      "DATA\n",
      "    my_variable = 0\n",
      "\n",
      "FILE\n",
      "    c:\\users\\rival\\onedrive\\escritorio\\ds_pt_09_2023\\01-ramp_up\\02-python\\01-python\\6-modules\\teoria\\primer_script.py\n",
      "\n",
      "\n"
     ]
    }
   ],
   "source": [
    "import primer_script\n",
    "help(primer_script)"
   ]
  },
  {
   "cell_type": "markdown",
   "metadata": {},
   "source": [
    "Como siempre en cualquier lenguaje de programación **tenemos que fijarnos siempre dónde está apuntando el Notebook**, es decir, en qué directorio de trabajo va a leer el script. Al poner `import primer_script`, va a buscar ese script en el **mismo directorio donde esté el Notebook**. Si lo tenemos en otro lado del ordenador, no lo detectará. Cuando realizas el importado Python no recorre todas las carpetas del ordenador, lo busca en el mismo sitio donde está el Notebook. Más delante veremos cómo leer scripts de otros directorios.\n",
    "\n",
    "Si queremos acceder a cualquier objeto del módulo, simplemente utilizamos la sintaxis `nombre_modulo.objeto`"
   ]
  },
  {
   "cell_type": "code",
   "execution_count": 3,
   "metadata": {},
   "outputs": [
    {
     "name": "stdout",
     "output_type": "stream",
     "text": [
      "0\n",
      "<function my_function at 0x000001A554340180>\n",
      "<class 'primer_script.MyClass'>\n"
     ]
    }
   ],
   "source": [
    "print(primer_script.my_variable)\n",
    "print(primer_script.my_function)\n",
    "print(primer_script.MyClass)"
   ]
  },
  {
   "cell_type": "code",
   "execution_count": 4,
   "metadata": {},
   "outputs": [
    {
     "name": "stdout",
     "output_type": "stream",
     "text": [
      "<primer_script.MyClass object at 0x000001A5543267D0>\n",
      "0\n"
     ]
    }
   ],
   "source": [
    "new_object = primer_script.MyClass()\n",
    "print(new_object)\n",
    "print(new_object.get_variable())"
   ]
  },
  {
   "cell_type": "markdown",
   "metadata": {},
   "source": [
    "[Aquí](https://docs.python.org/3/reference/import.html) tienes el enlace a la documentación del `import` por si tienes dudas, o necesitas realizar operaciones más complejas con el importado de módulos."
   ]
  },
  {
   "cell_type": "markdown",
   "metadata": {},
   "source": [
    "<table align=\"left\">\n",
    " <tr><td width=\"80\"><img src=\"./img/error.png\" style=\"width:auto;height:auto\"></td>\n",
    "     <td style=\"text-align:left\">\n",
    "         <h3>ERRORES Importado de módulos</h3>\n",
    "         \n",
    " </td></tr>\n",
    "</table>"
   ]
  },
  {
   "cell_type": "markdown",
   "metadata": {},
   "source": [
    "Típico error cuando intentamos acceder a un módulo que pensamos que está instalado en el intérprete de Anaconda, o queremos acceder a un *.py* que en realidad no está en la ruta deseada."
   ]
  },
  {
   "cell_type": "code",
   "execution_count": 5,
   "metadata": {},
   "outputs": [
    {
     "ename": "ModuleNotFoundError",
     "evalue": "No module named 'mi_modulo'",
     "output_type": "error",
     "traceback": [
      "\u001b[1;31m---------------------------------------------------------------------------\u001b[0m",
      "\u001b[1;31mModuleNotFoundError\u001b[0m                       Traceback (most recent call last)",
      "\u001b[1;32mc:\\Users\\rival\\OneDrive\\Escritorio\\DS_PT_09_2023\\01-Ramp_Up\\02-Python\\01-Python\\6-Modules\\Teoria\\Modulos.ipynb Cell 12\u001b[0m line \u001b[0;36m1\n\u001b[1;32m----> <a href='vscode-notebook-cell:/c%3A/Users/rival/OneDrive/Escritorio/DS_PT_09_2023/01-Ramp_Up/02-Python/01-Python/6-Modules/Teoria/Modulos.ipynb#X14sZmlsZQ%3D%3D?line=0'>1</a>\u001b[0m \u001b[39mimport\u001b[39;00m \u001b[39mmi_modulo\u001b[39;00m\n",
      "\u001b[1;31mModuleNotFoundError\u001b[0m: No module named 'mi_modulo'"
     ]
    }
   ],
   "source": [
    "import mi_modulo"
   ]
  },
  {
   "cell_type": "markdown",
   "metadata": {},
   "source": [
    "O si intentamos acceder una función/atributo que en realidad no existe en el módulo."
   ]
  },
  {
   "cell_type": "code",
   "execution_count": null,
   "metadata": {},
   "outputs": [],
   "source": [
    "primer_script.my_function2()"
   ]
  },
  {
   "cell_type": "markdown",
   "metadata": {},
   "source": [
    "<table align=\"left\">\n",
    " <tr><td width=\"80\"><img src=\"./img/ejercicio.png\" style=\"width:auto;height:auto\"></td>\n",
    "     <td style=\"text-align:left\">\n",
    "         <h3>Crear un script</h3>\n",
    "         \n",
    "Crea un nuevo script de Python (es un archivo .py) y ponle de nombre \"ejer_prueba.py\". Lo puedes crear desde el propio Jupyter Lab desde File -> New -> Text File. O también desde VSCode/Pycharm\n",
    "         \n",
    "         Declara dos variables en el script\n",
    "         a = 1\n",
    "         b = 2\n",
    "\n",
    "Importa ambas variables e imprimelas por pantalla.\n",
    "\n",
    "NOTA: si estás seguro de que está bien y no te reconoce las variables, prueba a reiniciar el kernel.\n",
    " </td></tr>\n",
    "</table>"
   ]
  },
  {
   "cell_type": "code",
   "execution_count": null,
   "metadata": {},
   "outputs": [],
   "source": [
    "import ejer_prueba\n",
    "\n",
    "print(ejer_prueba.a)\n",
    "print(ejer_prueba.b)\n"
   ]
  },
  {
   "cell_type": "markdown",
   "metadata": {},
   "source": [
    "Tienes otras maneras de importar datos, ya que en ocasiones desconocemos lo que hay dentro del módulo, o simplemente no queremos utilizar todo lo que hay."
   ]
  },
  {
   "cell_type": "code",
   "execution_count": null,
   "metadata": {},
   "outputs": [],
   "source": [
    "from primer_script import my_variable # aqui solo importo la variable\n",
    "print(my_variable)\n",
    "\n",
    "import primer_script # importo todo el script\n"
   ]
  },
  {
   "cell_type": "code",
   "execution_count": null,
   "metadata": {},
   "outputs": [
    {
     "name": "stdout",
     "output_type": "stream",
     "text": [
      "<class 'datetime.datetime'>\n"
     ]
    }
   ],
   "source": [
    "from datetime import datetime # importo el modulo dentro de datetime, que en este caso se llama igual el módulo \n",
    "\n",
    "print(datetime)"
   ]
  },
  {
   "cell_type": "code",
   "execution_count": null,
   "metadata": {},
   "outputs": [
    {
     "name": "stdout",
     "output_type": "stream",
     "text": [
      "3.141592653589793\n"
     ]
    }
   ],
   "source": [
    "from math import pi\n",
    "print(pi)"
   ]
  },
  {
   "cell_type": "markdown",
   "metadata": {},
   "source": [
    "En este caso ya no es necesario usar la sintaxis `modulo.objeto`, sino que el objeto ya está cargado en memoria. Es como si lo hubiésemos ejecuctado en una celda.\n",
    "\n",
    "Otra opción es importar todo. **NO es lo recomendable**. Porque el módulo podría tener muchas variables o funciones que no necesitemos, y ocupan espacio en memoria."
   ]
  },
  {
   "cell_type": "code",
   "execution_count": null,
   "metadata": {},
   "outputs": [],
   "source": [
    "from primer_script import * # el asterisco significa todo !mejor hacerlo asi \n",
    "# es igual que:\n",
    "import primer_script"
   ]
  },
  {
   "cell_type": "code",
   "execution_count": null,
   "metadata": {},
   "outputs": [],
   "source": [
    "# puedo utilizar alias \n",
    "from primer_script as ps\n",
    "\n",
    "pa.myvariable"
   ]
  },
  {
   "cell_type": "markdown",
   "metadata": {},
   "source": [
    "**¿Y si tenemos el archivo en otra carpeta?** La sintaxis es la misma. Si dentro de la carpeta donde está el Notebook, hay otra carpeta llamada `direc_segundo`, y dentro de esa carpeta hay otro script llamado `segundo_script.py`, podrás acceder a los objetos de ese escript mediante la sintaxis `import direc_segundo.segundo_script`"
   ]
  },
  {
   "cell_type": "markdown",
   "metadata": {},
   "source": [
    "<table align=\"left\">\n",
    " <tr><td width=\"80\"><img src=\"./img/ejercicio.png\" style=\"width:auto;height:auto\"></td>\n",
    "     <td style=\"text-align:left\">\n",
    "         <h3>Crear un script dentro de una carpeta</h3>\n",
    "         \n",
    "En el mismo sitio donde se encuentra este Notebook, crea la carpeta \"direc_segundo\", y dentro de la carpeta crea otro script llamado \"segundo_script.py\".\n",
    "         \n",
    "         Declara dos variables en el script\n",
    "         c = 3\n",
    "         d = 4\n",
    "\n",
    "Importa ambas variables e imprimelas por pantalla.\n",
    "         \n",
    " </td></tr>\n",
    "</table>"
   ]
  },
  {
   "cell_type": "code",
   "execution_count": null,
   "metadata": {},
   "outputs": [],
   "source": [
    "import direc_segundo.segundo_script as ss\n",
    "\n",
    "print(ss.c)\n",
    "print(ss.d)\n",
    "\n",
    "# de fuera a dentro"
   ]
  },
  {
   "cell_type": "code",
   "execution_count": null,
   "metadata": {},
   "outputs": [],
   "source": [
    "# de dentro a fuera \n",
    "from...este import z\n"
   ]
  },
  {
   "cell_type": "code",
   "execution_count": null,
   "metadata": {},
   "outputs": [],
   "source": [
    "import direc_segundo.otro_folder.segundo_script_2 as ss2\n",
    "\n",
    "print(ss2.c)\n",
    "print(ss2.d)"
   ]
  },
  {
   "cell_type": "markdown",
   "metadata": {},
   "source": [
    "En estos casos resulta muy útil ponerle un alias al `import`. Esto nos ayudará a acortar el nombre y a poner uno más intuitivo"
   ]
  },
  {
   "cell_type": "code",
   "execution_count": null,
   "metadata": {},
   "outputs": [],
   "source": [
    "import direc_segundo.segundo_script as variables # variables es un alias\n",
    "print(variables.c)"
   ]
  },
  {
   "cell_type": "markdown",
   "metadata": {},
   "source": [
    "Por útimo, **¿y si nuestros módulos no están en una carpeta dentro del proyecto donde estamos trabajando, sino en otra carpeta del ordenador, o en directorios anteriores?** Esto lo podemos solucionar mediante `sys.path`. `sys` es el módulo de Python que se usa para manejar las variables del sistema y el intérprete. Y `path` es una lista de strings con una serie de rutas donde acude el intérprete de Python cuando tiene que buscar un módulo. [Tienes aqui la documentación de `sys`](https://docs.python.org/3/library/sys.html)"
   ]
  },
  {
   "cell_type": "code",
   "execution_count": null,
   "metadata": {},
   "outputs": [],
   "source": [
    "import sys\n",
    "import os\n",
    "sys.path.append(r\"ruta del proyecto\") # poenmos una r delante y se pone rojo para no tener que cambiar las barritas de lado\n",
    "# aqui copias el path relativo (copy relative path)\n",
    "\n",
    "from este import z\n",
    "\n"
   ]
  },
  {
   "cell_type": "markdown",
   "metadata": {},
   "source": [
    "Si queremos que el intérprete de Python entienda de otros módulos que **no están en la carpeta de Notebook**, tendremos que añadir esa ruta a la lista de paths mediante la sintaxis `sys.path.append(la_nueva_ruta)`. Recuerda que `sys.path` es una lista, por lo que podrás aplicarle lo que ya sabes sobre listas."
   ]
  },
  {
   "cell_type": "markdown",
   "metadata": {},
   "source": [
    "<table align=\"left\">\n",
    " <tr><td width=\"80\"><img src=\"./img/ejercicio.png\" style=\"width:auto;height:auto\"></td>\n",
    "     <td style=\"text-align:left\">\n",
    "         <h3>Añadir un nuevo path</h3>\n",
    "         \n",
    "Crea un nuevo directorio en otra ruta del ordenador, por ejemplo en el escritorio. Llámalo \"direc_tercero\" e introduce dentro un nuevo script que se llame \"tercer_script.py\". Tendrás que añadir el path de ese directorio a los paths de sys.\n",
    "         \n",
    "         Declara dos variables en el script\n",
    "         e = 5\n",
    "         f = 6\n",
    "\n",
    "\n",
    "Importa ambas variables e imprimelas por pantalla.\n",
    "         \n",
    " </td></tr>\n",
    "</table>"
   ]
  },
  {
   "cell_type": "code",
   "execution_count": null,
   "metadata": {},
   "outputs": [],
   "source": [
    "import tercer_script\n",
    "print(tercer_script.e)\n",
    "print(tercer_script.f)"
   ]
  },
  {
   "cell_type": "code",
   "execution_count": null,
   "metadata": {},
   "outputs": [],
   "source": [
    "# sys.path.append('C:\\\\Users\\\\Miguel Angel\\\\Desktop\\\\direc_tercero')\n",
    "sys.path"
   ]
  },
  {
   "cell_type": "markdown",
   "metadata": {},
   "source": [
    "Una vez creado el nuevo directorio, se recomienda copiar su ruta y pegarla en el `append`\n",
    "\n",
    "![imagen](./img/path.png)"
   ]
  },
  {
   "cell_type": "markdown",
   "metadata": {},
   "source": [
    "Con lo visto en este Notebook tienes conocimiento de sobra para manejar tu programa en varios scripts, pero si quieres aprender más sobre el concepto `import`, te recomiendo que te leas [este artículo](https://chrisyeh96.github.io/2017/08/08/definitive-guide-python-imports.html)."
   ]
  },
  {
   "cell_type": "markdown",
   "metadata": {},
   "source": [
    "## 2. Bibliotecas\n",
    "Hasta ahora, todas las funcionalidades que necesitabas en Python las has ido desarrollando con tu propio código. Esto está bien, pero no siempre es necesario. **Existen muchísimas librerías que pueden hacer el trabajo por ti**, por lo que antes de implementar algo, ***no reinventes la rueda***. Se listo y busca si ya hay algo hecho en la web. Esto es lo bueno de trabajar con un lenguaje open source, que existe una comunidad con muchísimos desarrolladores y hay una gran cantidad de código publicado de manera gratuita. Por tanto, ¿De dónde podemos sacar estos códigos mágicos?\n",
    "\n",
    "* **[Biblioteca estándar de Python](https://docs.python.org/3/library/index.html#the-python-standard-library)**: aqui tienes muchas de las cosas que hemos visto ya (tipos de datos, el móduglo math...) y mucho más (lectura de archivos, compresión, acceso a BBDD...).\n",
    "* **Bibliotecas de terceros**: librerías que no vienen en el paquete por defecto de Python. Estas librerías o bien las implementa un particular o una empresa, y son de código abierto. Anaconda está muy orientado a la ciencia de datos, por lo que tiene librerías muy interesantes que utilizaremos durante el curso (pandas, numpy o sklearn). Además de estás librerías, podrás añadir al intérprete de Python todas las que necesites\n",
    "\n",
    "Veamos un ejemplo de importación de una librería"
   ]
  },
  {
   "cell_type": "code",
   "execution_count": null,
   "metadata": {},
   "outputs": [
    {
     "data": {
      "text/plain": [
       "6.0"
      ]
     },
     "execution_count": 6,
     "metadata": {},
     "output_type": "execute_result"
    }
   ],
   "source": [
    "import math\n",
    "math.sqrt(36) # raiz cuadrada"
   ]
  },
  {
   "cell_type": "markdown",
   "metadata": {},
   "source": [
    "Importando `math`, podremos acceder a todas sus funciones mediante la sintaxis `math.funcion()`. [En la documentación](https://docs.python.org/3/library/math.html#math.log) verás todo lo que puedes hacer con `math`. \n",
    "\n",
    "Veamos un ejemplo en el que nos ayude a no escribir código de más."
   ]
  },
  {
   "cell_type": "code",
   "execution_count": null,
   "metadata": {
    "collapsed": true,
    "jupyter": {
     "outputs_hidden": true
    },
    "tags": []
   },
   "outputs": [
    {
     "name": "stdout",
     "output_type": "stream",
     "text": [
      "Help on built-in module math:\n",
      "\n",
      "NAME\n",
      "    math\n",
      "\n",
      "DESCRIPTION\n",
      "    This module provides access to the mathematical functions\n",
      "    defined by the C standard.\n",
      "\n",
      "FUNCTIONS\n",
      "    acos(x, /)\n",
      "        Return the arc cosine (measured in radians) of x.\n",
      "        \n",
      "        The result is between 0 and pi.\n",
      "    \n",
      "    acosh(x, /)\n",
      "        Return the inverse hyperbolic cosine of x.\n",
      "    \n",
      "    asin(x, /)\n",
      "        Return the arc sine (measured in radians) of x.\n",
      "        \n",
      "        The result is between -pi/2 and pi/2.\n",
      "    \n",
      "    asinh(x, /)\n",
      "        Return the inverse hyperbolic sine of x.\n",
      "    \n",
      "    atan(x, /)\n",
      "        Return the arc tangent (measured in radians) of x.\n",
      "        \n",
      "        The result is between -pi/2 and pi/2.\n",
      "    \n",
      "    atan2(y, x, /)\n",
      "        Return the arc tangent (measured in radians) of y/x.\n",
      "        \n",
      "        Unlike atan(y/x), the signs of both x and y are considered.\n",
      "    \n",
      "    atanh(x, /)\n",
      "        Return the inverse hyperbolic tangent of x.\n",
      "    \n",
      "    cbrt(x, /)\n",
      "        Return the cube root of x.\n",
      "    \n",
      "    ceil(x, /)\n",
      "        Return the ceiling of x as an Integral.\n",
      "        \n",
      "        This is the smallest integer >= x.\n",
      "    \n",
      "    comb(n, k, /)\n",
      "        Number of ways to choose k items from n items without repetition and without order.\n",
      "        \n",
      "        Evaluates to n! / (k! * (n - k)!) when k <= n and evaluates\n",
      "        to zero when k > n.\n",
      "        \n",
      "        Also called the binomial coefficient because it is equivalent\n",
      "        to the coefficient of k-th term in polynomial expansion of the\n",
      "        expression (1 + x)**n.\n",
      "        \n",
      "        Raises TypeError if either of the arguments are not integers.\n",
      "        Raises ValueError if either of the arguments are negative.\n",
      "    \n",
      "    copysign(x, y, /)\n",
      "        Return a float with the magnitude (absolute value) of x but the sign of y.\n",
      "        \n",
      "        On platforms that support signed zeros, copysign(1.0, -0.0)\n",
      "        returns -1.0.\n",
      "    \n",
      "    cos(x, /)\n",
      "        Return the cosine of x (measured in radians).\n",
      "    \n",
      "    cosh(x, /)\n",
      "        Return the hyperbolic cosine of x.\n",
      "    \n",
      "    degrees(x, /)\n",
      "        Convert angle x from radians to degrees.\n",
      "    \n",
      "    dist(p, q, /)\n",
      "        Return the Euclidean distance between two points p and q.\n",
      "        \n",
      "        The points should be specified as sequences (or iterables) of\n",
      "        coordinates.  Both inputs must have the same dimension.\n",
      "        \n",
      "        Roughly equivalent to:\n",
      "            sqrt(sum((px - qx) ** 2.0 for px, qx in zip(p, q)))\n",
      "    \n",
      "    erf(x, /)\n",
      "        Error function at x.\n",
      "    \n",
      "    erfc(x, /)\n",
      "        Complementary error function at x.\n",
      "    \n",
      "    exp(x, /)\n",
      "        Return e raised to the power of x.\n",
      "    \n",
      "    exp2(x, /)\n",
      "        Return 2 raised to the power of x.\n",
      "    \n",
      "    expm1(x, /)\n",
      "        Return exp(x)-1.\n",
      "        \n",
      "        This function avoids the loss of precision involved in the direct evaluation of exp(x)-1 for small x.\n",
      "    \n",
      "    fabs(x, /)\n",
      "        Return the absolute value of the float x.\n",
      "    \n",
      "    factorial(n, /)\n",
      "        Find n!.\n",
      "        \n",
      "        Raise a ValueError if x is negative or non-integral.\n",
      "    \n",
      "    floor(x, /)\n",
      "        Return the floor of x as an Integral.\n",
      "        \n",
      "        This is the largest integer <= x.\n",
      "    \n",
      "    fmod(x, y, /)\n",
      "        Return fmod(x, y), according to platform C.\n",
      "        \n",
      "        x % y may differ.\n",
      "    \n",
      "    frexp(x, /)\n",
      "        Return the mantissa and exponent of x, as pair (m, e).\n",
      "        \n",
      "        m is a float and e is an int, such that x = m * 2.**e.\n",
      "        If x is 0, m and e are both 0.  Else 0.5 <= abs(m) < 1.0.\n",
      "    \n",
      "    fsum(seq, /)\n",
      "        Return an accurate floating point sum of values in the iterable seq.\n",
      "        \n",
      "        Assumes IEEE-754 floating point arithmetic.\n",
      "    \n",
      "    gamma(x, /)\n",
      "        Gamma function at x.\n",
      "    \n",
      "    gcd(*integers)\n",
      "        Greatest Common Divisor.\n",
      "    \n",
      "    hypot(...)\n",
      "        hypot(*coordinates) -> value\n",
      "        \n",
      "        Multidimensional Euclidean distance from the origin to a point.\n",
      "        \n",
      "        Roughly equivalent to:\n",
      "            sqrt(sum(x**2 for x in coordinates))\n",
      "        \n",
      "        For a two dimensional point (x, y), gives the hypotenuse\n",
      "        using the Pythagorean theorem:  sqrt(x*x + y*y).\n",
      "        \n",
      "        For example, the hypotenuse of a 3/4/5 right triangle is:\n",
      "        \n",
      "            >>> hypot(3.0, 4.0)\n",
      "            5.0\n",
      "    \n",
      "    isclose(a, b, *, rel_tol=1e-09, abs_tol=0.0)\n",
      "        Determine whether two floating point numbers are close in value.\n",
      "        \n",
      "          rel_tol\n",
      "            maximum difference for being considered \"close\", relative to the\n",
      "            magnitude of the input values\n",
      "          abs_tol\n",
      "            maximum difference for being considered \"close\", regardless of the\n",
      "            magnitude of the input values\n",
      "        \n",
      "        Return True if a is close in value to b, and False otherwise.\n",
      "        \n",
      "        For the values to be considered close, the difference between them\n",
      "        must be smaller than at least one of the tolerances.\n",
      "        \n",
      "        -inf, inf and NaN behave similarly to the IEEE 754 Standard.  That\n",
      "        is, NaN is not close to anything, even itself.  inf and -inf are\n",
      "        only close to themselves.\n",
      "    \n",
      "    isfinite(x, /)\n",
      "        Return True if x is neither an infinity nor a NaN, and False otherwise.\n",
      "    \n",
      "    isinf(x, /)\n",
      "        Return True if x is a positive or negative infinity, and False otherwise.\n",
      "    \n",
      "    isnan(x, /)\n",
      "        Return True if x is a NaN (not a number), and False otherwise.\n",
      "    \n",
      "    isqrt(n, /)\n",
      "        Return the integer part of the square root of the input.\n",
      "    \n",
      "    lcm(*integers)\n",
      "        Least Common Multiple.\n",
      "    \n",
      "    ldexp(x, i, /)\n",
      "        Return x * (2**i).\n",
      "        \n",
      "        This is essentially the inverse of frexp().\n",
      "    \n",
      "    lgamma(x, /)\n",
      "        Natural logarithm of absolute value of Gamma function at x.\n",
      "    \n",
      "    log(...)\n",
      "        log(x, [base=math.e])\n",
      "        Return the logarithm of x to the given base.\n",
      "        \n",
      "        If the base not specified, returns the natural logarithm (base e) of x.\n",
      "    \n",
      "    log10(x, /)\n",
      "        Return the base 10 logarithm of x.\n",
      "    \n",
      "    log1p(x, /)\n",
      "        Return the natural logarithm of 1+x (base e).\n",
      "        \n",
      "        The result is computed in a way which is accurate for x near zero.\n",
      "    \n",
      "    log2(x, /)\n",
      "        Return the base 2 logarithm of x.\n",
      "    \n",
      "    modf(x, /)\n",
      "        Return the fractional and integer parts of x.\n",
      "        \n",
      "        Both results carry the sign of x and are floats.\n",
      "    \n",
      "    nextafter(x, y, /)\n",
      "        Return the next floating-point value after x towards y.\n",
      "    \n",
      "    perm(n, k=None, /)\n",
      "        Number of ways to choose k items from n items without repetition and with order.\n",
      "        \n",
      "        Evaluates to n! / (n - k)! when k <= n and evaluates\n",
      "        to zero when k > n.\n",
      "        \n",
      "        If k is not specified or is None, then k defaults to n\n",
      "        and the function returns n!.\n",
      "        \n",
      "        Raises TypeError if either of the arguments are not integers.\n",
      "        Raises ValueError if either of the arguments are negative.\n",
      "    \n",
      "    pow(x, y, /)\n",
      "        Return x**y (x to the power of y).\n",
      "    \n",
      "    prod(iterable, /, *, start=1)\n",
      "        Calculate the product of all the elements in the input iterable.\n",
      "        \n",
      "        The default start value for the product is 1.\n",
      "        \n",
      "        When the iterable is empty, return the start value.  This function is\n",
      "        intended specifically for use with numeric values and may reject\n",
      "        non-numeric types.\n",
      "    \n",
      "    radians(x, /)\n",
      "        Convert angle x from degrees to radians.\n",
      "    \n",
      "    remainder(x, y, /)\n",
      "        Difference between x and the closest integer multiple of y.\n",
      "        \n",
      "        Return x - n*y where n*y is the closest integer multiple of y.\n",
      "        In the case where x is exactly halfway between two multiples of\n",
      "        y, the nearest even value of n is used. The result is always exact.\n",
      "    \n",
      "    sin(x, /)\n",
      "        Return the sine of x (measured in radians).\n",
      "    \n",
      "    sinh(x, /)\n",
      "        Return the hyperbolic sine of x.\n",
      "    \n",
      "    sqrt(x, /)\n",
      "        Return the square root of x.\n",
      "    \n",
      "    tan(x, /)\n",
      "        Return the tangent of x (measured in radians).\n",
      "    \n",
      "    tanh(x, /)\n",
      "        Return the hyperbolic tangent of x.\n",
      "    \n",
      "    trunc(x, /)\n",
      "        Truncates the Real x to the nearest Integral toward 0.\n",
      "        \n",
      "        Uses the __trunc__ magic method.\n",
      "    \n",
      "    ulp(x, /)\n",
      "        Return the value of the least significant bit of the float x.\n",
      "\n",
      "DATA\n",
      "    e = 2.718281828459045\n",
      "    inf = inf\n",
      "    nan = nan\n",
      "    pi = 3.141592653589793\n",
      "    tau = 6.283185307179586\n",
      "\n",
      "FILE\n",
      "    (built-in)\n",
      "\n",
      "\n"
     ]
    }
   ],
   "source": [
    "help(math)"
   ]
  },
  {
   "cell_type": "code",
   "execution_count": null,
   "metadata": {},
   "outputs": [
    {
     "name": "stdout",
     "output_type": "stream",
     "text": [
      "Help on built-in function sqrt in module math:\n",
      "\n",
      "sqrt(x, /)\n",
      "    Return the square root of x.\n",
      "\n"
     ]
    }
   ],
   "source": [
    "help(math.sqrt)"
   ]
  },
  {
   "cell_type": "code",
   "execution_count": null,
   "metadata": {},
   "outputs": [
    {
     "name": "stdout",
     "output_type": "stream",
     "text": [
      "['__doc__', '__loader__', '__name__', '__package__', '__spec__', 'acos', 'acosh', 'asin', 'asinh', 'atan', 'atan2', 'atanh', 'cbrt', 'ceil', 'comb', 'copysign', 'cos', 'cosh', 'degrees', 'dist', 'e', 'erf', 'erfc', 'exp', 'exp2', 'expm1', 'fabs', 'factorial', 'floor', 'fmod', 'frexp', 'fsum', 'gamma', 'gcd', 'hypot', 'inf', 'isclose', 'isfinite', 'isinf', 'isnan', 'isqrt', 'lcm', 'ldexp', 'lgamma', 'log', 'log10', 'log1p', 'log2', 'modf', 'nan', 'nextafter', 'perm', 'pi', 'pow', 'prod', 'radians', 'remainder', 'sin', 'sinh', 'sqrt', 'tan', 'tanh', 'tau', 'trunc', 'ulp']\n"
     ]
    }
   ],
   "source": [
    "print(dir(math)) # las funciones que tiene math "
   ]
  },
  {
   "cell_type": "markdown",
   "metadata": {},
   "source": [
    "Otro ejemplo en el que vemos la potencia de `pandas`, a la hora de leer archivos"
   ]
  },
  {
   "cell_type": "code",
   "execution_count": 13,
   "metadata": {
    "collapsed": true,
    "jupyter": {
     "outputs_hidden": true
    },
    "tags": []
   },
   "outputs": [
    {
     "name": "stdout",
     "output_type": "stream",
     "text": [
      "['schedtime', 'carrier', 'deptime', 'dest', 'distance', 'date', 'flightnumber', 'origin', 'weather', 'dayweek', 'daymonth', 'tailnu', 'delay']\n",
      "['1455', 'OH', '1455', 'JFK', '184', '1/1/2004', '5935', 'BWI', '0', '4', '1', 'N940CA', 'ontime']\n",
      "['1640', 'DH', '1640', 'JFK', '213', '1/1/2004', '6155', 'DCA', '0', '4', '1', 'N405FJ', 'ontime']\n",
      "['1245', 'DH', '1245', 'LGA', '229', '1/1/2004', '7208', 'IAD', '0', '4', '1', 'N695BR', 'ontime']\n",
      "['1715', 'DH', '1709', 'LGA', '229', '1/1/2004', '7215', 'IAD', '0', '4', '1', 'N662BR', 'ontime']\n",
      "['1039', 'DH', '1035', 'LGA', '229', '1/1/2004', '7792', 'IAD', '0', '4', '1', 'N698BR', 'ontime']\n",
      "['840', 'DH', '839', 'JFK', '228', '1/1/2004', '7800', 'IAD', '0', '4', '1', 'N687BR', 'ontime']\n",
      "['1240', 'DH', '1243', 'JFK', '228', '1/1/2004', '7806', 'IAD', '0', '4', '1', 'N321UE', 'ontime']\n",
      "['1645', 'DH', '1644', 'JFK', '228', '1/1/2004', '7810', 'IAD', '0', '4', '1', 'N301UE', 'ontime']\n",
      "['1715', 'DH', '1710', 'JFK', '228', '1/1/2004', '7812', 'IAD', '0', '4', '1', 'N328UE', 'ontime']\n",
      "['2120', 'DH', '2129', 'JFK', '228', '1/1/2004', '7814', 'IAD', '0', '4', '1', 'N685BR', 'ontime']\n",
      "['2120', 'DH', '2114', 'LGA', '229', '1/1/2004', '7924', 'IAD', '0', '4', '1', 'N645BR', 'ontime']\n",
      "['1455', 'DL', '1458', 'JFK', '213', '1/1/2004', '746', 'DCA', '0', '4', '1', 'N918DE', 'ontime']\n",
      "['930', 'DL', '932', 'LGA', '214', '1/1/2004', '1746', 'DCA', '0', '4', '1', 'N242DL', 'ontime']\n",
      "['1230', 'DL', '1228', 'LGA', '214', '1/1/2004', '1752', 'DCA', '0', '4', '1', 'N241DL', 'ontime']\n",
      "['1430', 'DL', '1429', 'LGA', '214', '1/1/2004', '1756', 'DCA', '0', '4', '1', 'N242DL', 'ontime']\n",
      "['1730', 'DL', '1728', 'LGA', '214', '1/1/2004', '1762', 'DCA', '0', '4', '1', 'N241DL', 'ontime']\n",
      "['2030', 'DL', '2029', 'LGA', '214', '1/1/2004', '1768', 'DCA', '0', '4', '1', 'N242DL', 'ontime']\n",
      "['1530', 'MQ', '1525', 'JFK', '213', '1/1/2004', '4752', 'DCA', '0', '4', '1', 'N709MQ', 'ontime']\n",
      "['600', 'MQ', '556', 'JFK', '213', '1/1/2004', '4760', 'DCA', '0', '4', '1', 'N717MQ', 'ontime']\n",
      "['1830', 'MQ', '1822', 'JFK', '213', '1/1/2004', '4784', 'DCA', '0', '4', '1', 'N707MQ', 'ontime']\n",
      "['900', 'MQ', '853', 'LGA', '214', '1/1/2004', '4956', 'DCA', '0', '4', '1', 'N737MQ', 'ontime']\n",
      "['1300', 'MQ', '1254', 'LGA', '214', '1/1/2004', '4964', 'DCA', '0', '4', '1', 'N717MQ', 'ontime']\n",
      "['1400', 'MQ', '1356', 'LGA', '214', '1/1/2004', '4966', 'DCA', '0', '4', '1', 'N726MQ', 'ontime']\n",
      "['1500', 'MQ', '1452', 'LGA', '214', '1/1/2004', '4968', 'DCA', '0', '4', '1', 'N724MQ', 'ontime']\n",
      "['1900', 'MQ', '1853', 'LGA', '214', '1/1/2004', '4976', 'DCA', '0', '4', '1', 'N724MQ', 'ontime']\n",
      "['850', 'UA', '841', 'LGA', '229', '1/1/2004', '846', 'IAD', '0', '4', '1', 'N513UA', 'ontime']\n",
      "['900', 'US', '858', 'LGA', '214', '1/1/2004', '2164', 'DCA', '0', '4', '1', 'N709UW', 'ontime']\n",
      "['1100', 'US', '1056', 'LGA', '214', '1/1/2004', '2168', 'DCA', '0', '4', '1', 'N748UW', 'ontime']\n",
      "['1300', 'US', '1253', 'LGA', '214', '1/1/2004', '2172', 'DCA', '0', '4', '1', 'N709UW', 'ontime']\n",
      "['1500', 'US', '1458', 'LGA', '214', '1/1/2004', '2176', 'DCA', '0', '4', '1', 'N748UW', 'ontime']\n",
      "['1700', 'US', '1655', 'LGA', '214', '1/1/2004', '2180', 'DCA', '0', '4', '1', 'N709UW', 'ontime']\n",
      "['2100', 'US', '2055', 'LGA', '214', '1/1/2004', '2188', 'DCA', '0', '4', '1', 'N709UW', 'ontime']\n",
      "['1455', 'RU', '1452', 'EWR', '169', '1/1/2004', '2403', 'BWI', '0', '4', '1', 'N14916', 'ontime']\n",
      "['1720', 'RU', '1710', 'EWR', '169', '1/1/2004', '2675', 'BWI', '0', '4', '1', 'N16954', 'ontime']\n",
      "['1030', 'RU', '1030', 'EWR', '169', '1/1/2004', '2303', 'BWI', '0', '4', '1', 'N26549', 'ontime']\n",
      "['700', 'RU', '656', 'EWR', '169', '1/1/2004', '2703', 'BWI', '0', '4', '1', 'N16954', 'ontime']\n",
      "['1300', 'CO', '1256', 'EWR', '199', '1/1/2004', '808', 'DCA', '0', '4', '1', 'N18611', 'ontime']\n",
      "['1730', 'CO', '1726', 'EWR', '199', '1/1/2004', '814', 'DCA', '0', '4', '1', 'N19357', 'ontime']\n",
      "['840', 'DH', '840', 'EWR', '213', '1/1/2004', '7299', 'IAD', '0', '4', '1', 'N691BR', 'ontime']\n",
      "['1710', 'DH', '1704', 'EWR', '213', '1/1/2004', '7302', 'IAD', '0', '4', '1', 'N691BR', 'ontime']\n",
      "['1245', 'DH', '1245', 'EWR', '213', '1/1/2004', '7303', 'IAD', '0', '4', '1', 'N697BR', 'ontime']\n",
      "['2120', 'DH', '2118', 'EWR', '213', '1/1/2004', '7304', 'IAD', '0', '4', '1', 'N699BR', 'ontime']\n",
      "['1715', 'DH', '1741', 'JFK', '228', '1/3/2004', '7812', 'IAD', '0', '6', '3', 'N327UE', 'ontime']\n",
      "['1730', 'RU', '1736', 'EWR', '199', '1/31/2004', '2097', 'DCA', '0', '6', '31', 'N13994', 'ontime']\n",
      "Fin\n"
     ]
    }
   ],
   "source": [
    "import csv\n",
    "\n",
    "with open('datos_prueba.csv', 'r') as file:   # r lectura, as es el alias\n",
    "    my_reader = csv.reader(file, delimiter = ',')\n",
    "    \n",
    "    for row in my_reader:\n",
    "        print(row)\n",
    "\n",
    "print(\"Fin\")"
   ]
  },
  {
   "cell_type": "code",
   "execution_count": 14,
   "metadata": {},
   "outputs": [
    {
     "ename": "ModuleNotFoundError",
     "evalue": "No module named 'pandas'",
     "output_type": "error",
     "traceback": [
      "\u001b[1;31m---------------------------------------------------------------------------\u001b[0m",
      "\u001b[1;31mModuleNotFoundError\u001b[0m                       Traceback (most recent call last)",
      "\u001b[1;32mc:\\Users\\rival\\OneDrive\\Escritorio\\DS_PT_09_2023\\01-Ramp_Up\\02-Python\\01-Python\\6-Modules\\Teoria\\Modulos.ipynb Cell 47\u001b[0m line \u001b[0;36m1\n\u001b[1;32m----> <a href='vscode-notebook-cell:/c%3A/Users/rival/OneDrive/Escritorio/DS_PT_09_2023/01-Ramp_Up/02-Python/01-Python/6-Modules/Teoria/Modulos.ipynb#X64sZmlsZQ%3D%3D?line=0'>1</a>\u001b[0m \u001b[39mimport\u001b[39;00m \u001b[39mpandas\u001b[39;00m \u001b[39mas\u001b[39;00m \u001b[39mpd\u001b[39;00m\n\u001b[0;32m      <a href='vscode-notebook-cell:/c%3A/Users/rival/OneDrive/Escritorio/DS_PT_09_2023/01-Ramp_Up/02-Python/01-Python/6-Modules/Teoria/Modulos.ipynb#X64sZmlsZQ%3D%3D?line=2'>3</a>\u001b[0m mi_data \u001b[39m=\u001b[39m pd\u001b[39m.\u001b[39mread_csv(\u001b[39m\"\u001b[39m\u001b[39mdatos_prueba.csv\u001b[39m\u001b[39m\"\u001b[39m)\n\u001b[0;32m      <a href='vscode-notebook-cell:/c%3A/Users/rival/OneDrive/Escritorio/DS_PT_09_2023/01-Ramp_Up/02-Python/01-Python/6-Modules/Teoria/Modulos.ipynb#X64sZmlsZQ%3D%3D?line=3'>4</a>\u001b[0m mi_data\u001b[39m.\u001b[39mhead()\n",
      "\u001b[1;31mModuleNotFoundError\u001b[0m: No module named 'pandas'"
     ]
    }
   ],
   "source": [
    "import pandas as pd\n",
    "\n",
    "mi_data = pd.read_csv(\"datos_prueba.csv\")\n",
    "mi_data.head()"
   ]
  },
  {
   "cell_type": "code",
   "execution_count": 10,
   "metadata": {
    "collapsed": true,
    "jupyter": {
     "outputs_hidden": true
    },
    "tags": []
   },
   "outputs": [
    {
     "ename": "ModuleNotFoundError",
     "evalue": "No module named 'seaborn'",
     "output_type": "error",
     "traceback": [
      "\u001b[1;31m---------------------------------------------------------------------------\u001b[0m",
      "\u001b[1;31mModuleNotFoundError\u001b[0m                       Traceback (most recent call last)",
      "\u001b[1;32mc:\\Users\\rival\\OneDrive\\Escritorio\\DS_PT_09_2023\\01-Ramp_Up\\02-Python\\01-Python\\6-Modules\\Teoria\\Modulos.ipynb Cell 48\u001b[0m line \u001b[0;36m1\n\u001b[1;32m----> <a href='vscode-notebook-cell:/c%3A/Users/rival/OneDrive/Escritorio/DS_PT_09_2023/01-Ramp_Up/02-Python/01-Python/6-Modules/Teoria/Modulos.ipynb#X65sZmlsZQ%3D%3D?line=0'>1</a>\u001b[0m \u001b[39mimport\u001b[39;00m \u001b[39mseaborn\u001b[39;00m \u001b[39mas\u001b[39;00m \u001b[39msns\u001b[39;00m\n\u001b[0;32m      <a href='vscode-notebook-cell:/c%3A/Users/rival/OneDrive/Escritorio/DS_PT_09_2023/01-Ramp_Up/02-Python/01-Python/6-Modules/Teoria/Modulos.ipynb#X65sZmlsZQ%3D%3D?line=2'>3</a>\u001b[0m sns\u001b[39m.\u001b[39mbarplot(x \u001b[39m=\u001b[39m \u001b[39m\"\u001b[39m\u001b[39morigin\u001b[39m\u001b[39m\"\u001b[39m, y \u001b[39m=\u001b[39m \u001b[39m\"\u001b[39m\u001b[39mdistance\u001b[39m\u001b[39m\"\u001b[39m, data \u001b[39m=\u001b[39m mi_data)\n",
      "\u001b[1;31mModuleNotFoundError\u001b[0m: No module named 'seaborn'"
     ]
    }
   ],
   "source": [
    "import seaborn as sns\n",
    "\n",
    "sns.barplot(x = \"origin\", y = \"distance\", data = mi_data)"
   ]
  },
  {
   "cell_type": "markdown",
   "metadata": {},
   "source": [
    "### Bibliotecas de terceros\n",
    "**¿Y si encontramos una librería interesante, pero no viene en el paquete de Anaconda?** La podremos instalar. Anaconda viene con muchas bibliotecas ya instaladas, la mayoría orientadas a trabajar con datos, pero por supuesto, no contiene todas las bibliotecas. Si quieres ver los paquetes de Anaconda, abre un *Prompt de Anaconda* y escribe `pip freeze`.\n",
    "\n",
    "Entonces, **¿cómo se instala un paquete nuevo?** La mayoría de paquetes los vas a encontrar en [PyPI (Python Package Index)](https://pypi.org), que es el repositorio oficial de paquetes de Python. Existen paquetes de particulares (no empresas, ni comunidades) en PyPI. Eso no quiere decir que no los puedas instalar, sino que probablemente estén menos testados que los \"oficiales\".\n",
    "\n",
    "Veamos un ejemplo de cómo instalar una nueva librería. En este caso, instalaremos **wget**, que nos sirve para obtener archivos de la web."
   ]
  },
  {
   "cell_type": "code",
   "execution_count": 16,
   "metadata": {
    "collapsed": true,
    "jupyter": {
     "outputs_hidden": true
    },
    "tags": []
   },
   "outputs": [
    {
     "name": "stdout",
     "output_type": "stream",
     "text": [
      "asttokens==2.4.0\n",
      "backcall==0.2.0\n",
      "colorama==0.4.6\n",
      "comm==0.1.4\n",
      "debugpy==1.8.0\n",
      "decorator==5.1.1\n",
      "executing==1.2.0\n",
      "ipykernel==6.25.2\n",
      "ipython==8.15.0\n",
      "jedi==0.19.0\n",
      "jupyter_client==8.3.1\n",
      "jupyter_core==5.3.1\n",
      "matplotlib-inline==0.1.6\n",
      "nest-asyncio==1.5.8\n",
      "packaging==23.1\n",
      "parso==0.8.3\n",
      "pickleshare==0.7.5\n",
      "platformdirs==3.10.0\n",
      "prompt-toolkit==3.0.39\n",
      "psutil==5.9.5\n",
      "pure-eval==0.2.2\n",
      "Pygments==2.16.1\n",
      "python-dateutil==2.8.2\n",
      "pywin32==306\n",
      "pyzmq==25.1.1\n",
      "six==1.16.0\n",
      "stack-data==0.6.2\n",
      "tornado==6.3.3\n",
      "traitlets==5.10.0\n",
      "wcwidth==0.2.6\n",
      "Note: you may need to restart the kernel to use updated packages.\n"
     ]
    }
   ],
   "source": [
    "!pip freeze"
   ]
  },
  {
   "cell_type": "code",
   "execution_count": 17,
   "metadata": {},
   "outputs": [
    {
     "name": "stdout",
     "output_type": "stream",
     "text": [
      "c:\\Users\\rival\\AppData\\Local\\Programs\\Python\\Python311\\python.exe\n",
      "C:\\Python310\\python.exe\n",
      "C:\\Users\\rival\\AppData\\Local\\Microsoft\\WindowsApps\\python.exe\n"
     ]
    }
   ],
   "source": [
    "!where python"
   ]
  },
  {
   "cell_type": "code",
   "execution_count": 18,
   "metadata": {},
   "outputs": [
    {
     "ename": "ModuleNotFoundError",
     "evalue": "No module named 'wget'",
     "output_type": "error",
     "traceback": [
      "\u001b[1;31m---------------------------------------------------------------------------\u001b[0m",
      "\u001b[1;31mModuleNotFoundError\u001b[0m                       Traceback (most recent call last)",
      "\u001b[1;32mc:\\Users\\rival\\OneDrive\\Escritorio\\DS_PT_09_2023\\01-Ramp_Up\\02-Python\\01-Python\\6-Modules\\Teoria\\Modulos.ipynb Cell 52\u001b[0m line \u001b[0;36m1\n\u001b[1;32m----> <a href='vscode-notebook-cell:/c%3A/Users/rival/OneDrive/Escritorio/DS_PT_09_2023/01-Ramp_Up/02-Python/01-Python/6-Modules/Teoria/Modulos.ipynb#Y102sZmlsZQ%3D%3D?line=0'>1</a>\u001b[0m \u001b[39mimport\u001b[39;00m \u001b[39mwget\u001b[39;00m\n",
      "\u001b[1;31mModuleNotFoundError\u001b[0m: No module named 'wget'"
     ]
    }
   ],
   "source": [
    "import wget"
   ]
  },
  {
   "cell_type": "markdown",
   "metadata": {},
   "source": [
    "Al hacer el `import`, no existe, por lo que tendremos que instalarla. Para instalarla, abre un prompt de Anaconda y ejecuta `pip install wget`\n",
    "\n",
    "\n",
    "![imagen](./img/wget.png)"
   ]
  },
  {
   "cell_type": "code",
   "execution_count": 19,
   "metadata": {},
   "outputs": [
    {
     "name": "stdout",
     "output_type": "stream",
     "text": [
      "Collecting wget\n",
      "  Downloading wget-3.2.zip (10 kB)\n",
      "  Preparing metadata (setup.py): started\n",
      "  Preparing metadata (setup.py): finished with status 'done'\n",
      "Installing collected packages: wget\n",
      "  Running setup.py install for wget: started\n",
      "  Running setup.py install for wget: finished with status 'done'\n",
      "Successfully installed wget-3.2\n"
     ]
    },
    {
     "name": "stderr",
     "output_type": "stream",
     "text": [
      "  DEPRECATION: wget is being installed using the legacy 'setup.py install' method, because it does not have a 'pyproject.toml' and the 'wheel' package is not installed. pip 23.1 will enforce this behaviour change. A possible replacement is to enable the '--use-pep517' option. Discussion can be found at https://github.com/pypa/pip/issues/8559\n",
      "\n",
      "[notice] A new release of pip is available: 23.0.1 -> 23.2.1\n",
      "[notice] To update, run: C:\\Python310\\python.exe -m pip install --upgrade pip\n"
     ]
    }
   ],
   "source": [
    "!pip install wget"
   ]
  },
  {
   "cell_type": "code",
   "execution_count": null,
   "metadata": {},
   "outputs": [],
   "source": [
    "import wget\n",
    "\n",
    "url = 'http://www.futurecrew.com/skaven/song_files/mp3/razorback.mp3'\n",
    "filename = wget.download(url)\n",
    "filename"
   ]
  },
  {
   "cell_type": "markdown",
   "metadata": {},
   "source": [
    "¡Perfecto! has podido instalar tu primer paquete en el intérprete de Python 3.7"
   ]
  },
  {
   "cell_type": "markdown",
   "metadata": {},
   "source": [
    "## 3. Resumen\n",
    "Como ves, **gran parte de la potencia de Python reside en sus librerías**. Combinando los conocimientos ya aprendidos con las librerías adecuadas, podremos crear dashboards interactivos, modelos de machine learning, páginas webs, automatizar procesos... ¡Los límites los pones tu! :)"
   ]
  },
  {
   "cell_type": "code",
   "execution_count": null,
   "metadata": {},
   "outputs": [],
   "source": [
    "# Sintaxis básica para importar un modulo\n",
    "import primer_script\n",
    "\n",
    "# Para acceder a su documentación\n",
    "help(primer_script)\n",
    "\n",
    "# PAra acceder a los objetos del modulo\n",
    "print(primer_script.my_variable)\n",
    "print(primer_script.my_function)\n",
    "print(primer_script.MyClass)\n",
    "\n",
    "# Una manera de acceder a todo\n",
    "from primer_script import *\n",
    "\n",
    "# Renombrar el modulo también es util, colocarle un alias\n",
    "import direc_segundo.segundo_script as variables\n",
    "print(variables.c)\n",
    "\n",
    "# Si queremos acceder rutas en otras partes del ordenador, hay que añadirlas a sys.path\n",
    "sys.path.append('C:/Users/Daney/Desktop/direc_tercero')\n",
    "sys.path\n",
    "\n",
    "# Por otro lado, tenemos las librerías del estandar de Python\n",
    "import math\n",
    "math.sqrt(36)\n",
    "\n",
    "from seaborn import load_dataset\n",
    "\n",
    "df = load_dataset ('iris')\n",
    "\n",
    "# O librerias de terceros que podrás instalar mediante un pip install libreria, en un Prompt de Anaconda.\n",
    "import wget"
   ]
  },
  {
   "cell_type": "code",
   "execution_count": null,
   "metadata": {},
   "outputs": [],
   "source": [
    "# https://towardsdatascience.com/dont-use-python-os-library-any-more-when-pathlib-can-do-141fefb6bdb5"
   ]
  }
 ],
 "metadata": {
  "kernelspec": {
   "display_name": "este",
   "language": "python",
   "name": "python3"
  },
  "language_info": {
   "codemirror_mode": {
    "name": "ipython",
    "version": 3
   },
   "file_extension": ".py",
   "mimetype": "text/x-python",
   "name": "python",
   "nbconvert_exporter": "python",
   "pygments_lexer": "ipython3",
   "version": "3.11.5"
  },
  "nbTranslate": {
   "displayLangs": [
    "*"
   ],
   "hotkey": "alt-t",
   "langInMainMenu": true,
   "sourceLang": "en",
   "targetLang": "fr",
   "useGoogleTranslate": true
  },
  "varInspector": {
   "cols": {
    "lenName": 16,
    "lenType": 16,
    "lenVar": 40
   },
   "kernels_config": {
    "python": {
     "delete_cmd_postfix": "",
     "delete_cmd_prefix": "del ",
     "library": "var_list.py",
     "varRefreshCmd": "print(var_dic_list())"
    },
    "r": {
     "delete_cmd_postfix": ") ",
     "delete_cmd_prefix": "rm(",
     "library": "var_list.r",
     "varRefreshCmd": "cat(var_dic_list()) "
    }
   },
   "types_to_exclude": [
    "module",
    "function",
    "builtin_function_or_method",
    "instance",
    "_Feature"
   ],
   "window_display": false
  },
  "vscode": {
   "interpreter": {
    "hash": "a2096eed11e660c16a57aa22341844f97628d296d9189b003c816b71548c0c9d"
   }
  }
 },
 "nbformat": 4,
 "nbformat_minor": 4
}
