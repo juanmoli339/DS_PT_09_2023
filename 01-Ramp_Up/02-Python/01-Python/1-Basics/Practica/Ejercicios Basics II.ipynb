{
 "cells": [
  {
   "cell_type": "markdown",
   "metadata": {},
   "source": [
    "![imagen](./img/ejercicios.png)"
   ]
  },
  {
   "cell_type": "markdown",
   "metadata": {},
   "source": [
    "# Ejercicios Python Basics II"
   ]
  },
  {
   "cell_type": "markdown",
   "metadata": {},
   "source": [
    "## Ejercicio 1\n",
    "* Crea dos variables numericas: un `int` y un `float`\n",
    "* Comprueba sus tipos\n",
    "* Sumalas en otra nueva\n",
    "* ¿De qué tipo es la nueva variable?\n",
    "* Elimina las dos primeras variables creadas"
   ]
  },
  {
   "cell_type": "code",
   "execution_count": 2,
   "metadata": {},
   "outputs": [
    {
     "name": "stdout",
     "output_type": "stream",
     "text": [
      "<class 'int'>\n",
      "<class 'float'>\n",
      "16.5\n",
      "<class 'float'>\n"
     ]
    }
   ],
   "source": [
    "variable_entero = 8\n",
    "variable_decimal = 8.5\n",
    "\n",
    "print (type(variable_entero))\n",
    "print (type(variable_decimal))\n",
    "\n",
    "total = variable_entero + variable_decimal\n",
    "print (total)\n",
    "print (type(total))\n",
    "\n",
    "del.variable_entero\n",
    "del.variable_decimal"
   ]
  },
  {
   "cell_type": "markdown",
   "metadata": {},
   "source": [
    "## Ejercicio 2\n",
    "Escribe un programa para pasar de grados a radianes. Hay que usar `input`. Recuerda que la conversión se realiza mediante\n",
    "\n",
    "radianes = grados*(pi/180)"
   ]
  },
  {
   "cell_type": "code",
   "execution_count": 5,
   "metadata": {},
   "outputs": [
    {
     "name": "stdout",
     "output_type": "stream",
     "text": [
      "Los radianes son 0.8726646259971648\n"
     ]
    }
   ],
   "source": [
    "\n",
    "import math\n",
    "\n",
    "grados = input (\"Introduce los grados que quieres transformar \")\n",
    "\n",
    "radianes = float(grados) * ((math.pi)/180)\n",
    "\n",
    "print (\"Los radianes son \" + str(radianes))"
   ]
  },
  {
   "cell_type": "markdown",
   "metadata": {},
   "source": [
    "## Ejercicio 3\n",
    "Escribe un programa que calcule el area de un paralelogramo (base x altura). También con `input`"
   ]
  },
  {
   "cell_type": "code",
   "execution_count": 6,
   "metadata": {},
   "outputs": [
    {
     "name": "stdout",
     "output_type": "stream",
     "text": [
      "9.0\n"
     ]
    }
   ],
   "source": [
    "\n",
    "\n",
    "base = input (\"Introduce la base \") \n",
    "altura = input (\"Introduce la altura \")\n",
    "\n",
    "area_palelogramo = float(base) * float(altura)\n",
    "\n",
    "print (area_palelogramo)\n",
    "\n"
   ]
  },
  {
   "cell_type": "markdown",
   "metadata": {},
   "source": [
    "## Ejercicio 4\n",
    "Tenemos las siguientes variables:\n",
    "\n",
    "```Python\n",
    "A = 4\n",
    "B = \"Text\"\n",
    "C = 4.1\n",
    "```\n",
    "\n",
    "Comprueba:\n",
    "1. Si A y B son equivalentes\n",
    "2. Si A y C NO son equivalentes\n",
    "3. Si A es mayor que C \n",
    "4. Si C es menor o igual que A\n",
    "5. Si B NO es equivalente a C"
   ]
  },
  {
   "cell_type": "code",
   "execution_count": 17,
   "metadata": {},
   "outputs": [
    {
     "data": {
      "text/plain": [
       "True"
      ]
     },
     "execution_count": 17,
     "metadata": {},
     "output_type": "execute_result"
    }
   ],
   "source": [
    "A = 4 \n",
    "B = \"Text\"\n",
    "C = 4.1\n",
    "\n",
    "A == B\n",
    "A != C\n",
    "A > C\n",
    "C <= A\n",
    "B != C\n"
   ]
  },
  {
   "cell_type": "markdown",
   "metadata": {},
   "source": [
    "## Ejercicio 5\n",
    "Crea un programa donde se recojan dos inputs del usuario, y el output del programa sea si esos inputs son iguales o no"
   ]
  },
  {
   "cell_type": "code",
   "execution_count": 19,
   "metadata": {},
   "outputs": [
    {
     "name": "stdout",
     "output_type": "stream",
     "text": [
      "False\n"
     ]
    }
   ],
   "source": [
    "input_uno = input (\"comprobacion \")\n",
    "input_dos = input (\"comprobacion \")\n",
    "\n",
    "comprobacion = input_uno == input_dos\n",
    "\n",
    "print (comprobacion)"
   ]
  },
  {
   "cell_type": "markdown",
   "metadata": {},
   "source": [
    "## Ejercicio 6\n",
    "Mismo programa que en 5, pero en esta ocasión tienen que ser tres inputs y dos salidas. Una de las salidas que nos indique si todos son iguales, y la otra si al menos dos inputs sí que lo son"
   ]
  },
  {
   "cell_type": "code",
   "execution_count": 37,
   "metadata": {},
   "outputs": [
    {
     "name": "stdout",
     "output_type": "stream",
     "text": [
      "False\n",
      "False\n"
     ]
    }
   ],
   "source": [
    "input_uno = input (\"Ingrese el primer número \")\n",
    "input_dos = input (\"Ingrese el segundo número \")\n",
    "input_tres = input (\"Ingrese el tercer número \")\n",
    "\n",
    "comprobacion_una = float(input_uno) == float(input_dos) and float(input_uno) == float(input_tres) and float(input_tres) == float(input_dos)\n",
    "comprobacion_dos = float(input_uno) == float(input_dos) or float(input_uno) == float(input_tres) or float(input_tres) == float(input_dos)\n",
    "\n",
    "print (comprobacion_una)\n",
    "print (comprobacion_dos)\n"
   ]
  },
  {
   "cell_type": "code",
   "execution_count": 32,
   "metadata": {},
   "outputs": [
    {
     "name": "stdout",
     "output_type": "stream",
     "text": [
      "No son todos iguales\n",
      "al menos dos son iguales\n"
     ]
    }
   ],
   "source": [
    "input_uno = input (\"Ingrese un número \")\n",
    "input_dos = input (\"Ingrese un número \")\n",
    "input_tres = input (\"Ingrese un número \")\n",
    "\n",
    "if (input_uno == input_dos and input_uno == input_tres and input_tres == input_dos):\n",
    "    print (\"todos son iguales\")\n",
    "else: \n",
    "    print (\"No son todos iguales\")\n",
    "if (input_uno == input_dos or input_uno == input_tres or input_tres == input_dos):\n",
    "    print (\"al menos dos son iguales\") \n",
    "else:\n",
    "    print (\"ni siquiera son dos iguales\")\n"
   ]
  },
  {
   "cell_type": "markdown",
   "metadata": {},
   "source": [
    "## Ejercicio 7\n",
    "Crea un programa que recoja dos inputs. Tiene que comprobar si su suma es igual, superior o inferior a 10"
   ]
  },
  {
   "cell_type": "code",
   "execution_count": 35,
   "metadata": {},
   "outputs": [
    {
     "name": "stdout",
     "output_type": "stream",
     "text": [
      "False\n",
      "False\n",
      "True\n"
     ]
    }
   ],
   "source": [
    "\n",
    "input_uno = input (\"Ingrese un número \")\n",
    "input_dos = input (\"Ingrese un número \")\n",
    "\n",
    "comprobacion_una = float (input_uno) + float (input_dos) == 10\n",
    "comprobacion_dos = float (input_uno) + float (input_dos) > 10\n",
    "comprobacion_tres = float (input_uno) + float (input_dos) < 10\n",
    "\n",
    "print (comprobacion_una)\n",
    "print (comprobacion_dos)\n",
    "print (comprobacion_tres)"
   ]
  },
  {
   "cell_type": "markdown",
   "metadata": {},
   "source": [
    "## Ejercicio 8\n",
    "Razona sin ejecutar código el output que obtendremos de las siguientes sentencias\n",
    "1. True and True and False\n",
    "2. not ((True or False) and (True or False))\n",
    "3. (False or False or False or True) and False\n",
    "4. not False and True and not True"
   ]
  },
  {
   "cell_type": "markdown",
   "metadata": {},
   "source": [
    "1. False\n",
    "2. False\n",
    "3. False\n",
    "4. False"
   ]
  },
  {
   "cell_type": "code",
   "execution_count": null,
   "metadata": {},
   "outputs": [],
   "source": [
    "#1 True and True es True y luego True and False es False \n",
    "#2 (true or false) es True. Not True es False. Luego (True or False) es True. Juntos False and true es False\n",
    "#3 F or F - False F or F - False y ese ultimo False or True - True del paréntesis. True and False sale False \n",
    "#4 Not false es True and True es True and not true que es false. Sale True and False que es false  "
   ]
  },
  {
   "cell_type": "markdown",
   "metadata": {},
   "source": [
    "## Ejercicio 9\n",
    "Para este ejercicio vamos a poner en práctica [las funciones built in](https://docs.python.org/3/library/functions.html).\n",
    "\n",
    "1. Calcula el máximo de la lista: [4, 6, 8, -1]\n",
    "2. Suma todos los elementos de la lista anterior\n",
    "3. Redondea este float a 3 dígitos decimales: 63.451256965\n",
    "4. Valor absoluto de: -74"
   ]
  },
  {
   "cell_type": "code",
   "execution_count": 4,
   "metadata": {},
   "outputs": [
    {
     "name": "stdout",
     "output_type": "stream",
     "text": [
      "8\n"
     ]
    },
    {
     "ename": "TypeError",
     "evalue": "sum() takes at most 2 arguments (4 given)",
     "output_type": "error",
     "traceback": [
      "\u001b[1;31m---------------------------------------------------------------------------\u001b[0m",
      "\u001b[1;31mTypeError\u001b[0m                                 Traceback (most recent call last)",
      "\u001b[1;32mc:\\Users\\rival\\OneDrive\\Escritorio\\DS_PT_09_2023\\01-Ramp_Up\\02-Python\\01-Python\\1-Basics\\Practica\\Ejercicios Basics II.ipynb Cell 22\u001b[0m line \u001b[0;36m6\n\u001b[0;32m      <a href='vscode-notebook-cell:/c%3A/Users/rival/OneDrive/Escritorio/DS_PT_09_2023/01-Ramp_Up/02-Python/01-Python/1-Basics/Practica/Ejercicios%20Basics%20II.ipynb#X30sZmlsZQ%3D%3D?line=2'>3</a>\u001b[0m lista \u001b[39m=\u001b[39m [\u001b[39m4\u001b[39m, \u001b[39m6\u001b[39m, \u001b[39m8\u001b[39m, \u001b[39m-\u001b[39m\u001b[39m1\u001b[39m]\n\u001b[0;32m      <a href='vscode-notebook-cell:/c%3A/Users/rival/OneDrive/Escritorio/DS_PT_09_2023/01-Ramp_Up/02-Python/01-Python/1-Basics/Practica/Ejercicios%20Basics%20II.ipynb#X30sZmlsZQ%3D%3D?line=4'>5</a>\u001b[0m \u001b[39mprint\u001b[39m (\u001b[39mmax\u001b[39m(\u001b[39m4\u001b[39m, \u001b[39m6\u001b[39m, \u001b[39m8\u001b[39m, \u001b[39m-\u001b[39m\u001b[39m1\u001b[39m))\n\u001b[1;32m----> <a href='vscode-notebook-cell:/c%3A/Users/rival/OneDrive/Escritorio/DS_PT_09_2023/01-Ramp_Up/02-Python/01-Python/1-Basics/Practica/Ejercicios%20Basics%20II.ipynb#X30sZmlsZQ%3D%3D?line=5'>6</a>\u001b[0m \u001b[39mprint\u001b[39m (\u001b[39msum\u001b[39;49m(\u001b[39m4\u001b[39;49m, \u001b[39m6\u001b[39;49m, \u001b[39m8\u001b[39;49m, \u001b[39m-\u001b[39;49m\u001b[39m1\u001b[39;49m))\n\u001b[0;32m      <a href='vscode-notebook-cell:/c%3A/Users/rival/OneDrive/Escritorio/DS_PT_09_2023/01-Ramp_Up/02-Python/01-Python/1-Basics/Practica/Ejercicios%20Basics%20II.ipynb#X30sZmlsZQ%3D%3D?line=7'>8</a>\u001b[0m variable_float \u001b[39m=\u001b[39m \u001b[39m63.451256965\u001b[39m\n\u001b[0;32m      <a href='vscode-notebook-cell:/c%3A/Users/rival/OneDrive/Escritorio/DS_PT_09_2023/01-Ramp_Up/02-Python/01-Python/1-Basics/Practica/Ejercicios%20Basics%20II.ipynb#X30sZmlsZQ%3D%3D?line=8'>9</a>\u001b[0m \u001b[39mprint\u001b[39m (\u001b[39mround\u001b[39m (\u001b[39m63.451256965\u001b[39m, \u001b[39m3\u001b[39m))\n",
      "\u001b[1;31mTypeError\u001b[0m: sum() takes at most 2 arguments (4 given)"
     ]
    }
   ],
   "source": [
    "\n",
    "import math \n",
    "\n",
    "lista = [4, 6, 8, -1]\n",
    "\n",
    "print (max(4, 6, 8, -1))\n",
    "print (sum(4, 6, 8, -1))\n",
    "\n",
    "variable_float = 63.451256965\n",
    "print (round (63.451256965, 3))\n",
    "\n",
    "print (abs(-74))"
   ]
  },
  {
   "cell_type": "markdown",
   "metadata": {},
   "source": [
    "## Ejercicio 10\n",
    "Para el siguiente string se pide imprimir por pantalla los siguientes casos\n",
    "\n",
    "    \"A quien madruga, dios le ayuda\"\n",
    "\n",
    "1. Pasarlo todo a mayusculas\n",
    "2. Pasarlo todo a minusculas\n",
    "3. Pasar a mayusculas solo las iniciales de las palabras\n",
    "4. Crea una lista dividiendolo por sus espacios\n",
    "5. Sustituye las comas `,` por puntos y comas `;`\n",
    "6. Elimina las `a` minusculas"
   ]
  },
  {
   "cell_type": "code",
   "execution_count": null,
   "metadata": {},
   "outputs": [],
   "source": [
    "\n",
    "string = \"A quien madruga, Dios le ayuda\"\n",
    "\n",
    "print(string.upper())\n",
    "print(string.lower())\n",
    "print(string.title())\n",
    "# 4\n",
    "print(string.replace(\",\" , \";\"))\n",
    "# 5\n",
    "print(string.())\n",
    "\n"
   ]
  },
  {
   "cell_type": "markdown",
   "metadata": {},
   "source": [
    "## Ejercicio 11\n",
    "1. Crea una lista con 3 elementos numéricos\n",
    "2. Añade un cuarto elemento\n",
    "3. Calcula la suma de todos\n",
    "4. Elimina el segundo elemento de la lista\n",
    "5. Añade otro elemento en la posicion 3 de la lista\n",
    "6. Crea otra lista con 4 elementos y concaténala a la que ya tenías."
   ]
  },
  {
   "cell_type": "code",
   "execution_count": 5,
   "metadata": {},
   "outputs": [
    {
     "name": "stdout",
     "output_type": "stream",
     "text": [
      "[1, 2, 3]\n",
      "[1, 2, 3, 4]\n",
      "10\n",
      "[1, 3, 4]\n",
      "[1, 3, 9, 4]\n",
      "[1, 3, 9, 4, 15, 16, 17]\n",
      "[1, 3, 9, 4, 15, 16, 17, 15, 16, 17]\n"
     ]
    }
   ],
   "source": [
    "# 1\n",
    "lista = [1, 2, 3]\n",
    "print (lista)\n",
    "# 2\n",
    "lista.append(4)\n",
    "print (lista)\n",
    "# 3\n",
    "print (sum(lista))\n",
    "# 4\n",
    "# 1 forma\n",
    "lista.pop(1)\n",
    "print (lista)\n",
    "# 2 forma\n",
    "del lista [1]\n",
    "# 5\n",
    "lista.insert (2,9)\n",
    "print (lista)\n",
    "# 6\n",
    "lista_dos = [15, 16, 17]\n",
    "# 1 forma\n",
    "lista.extend(lista_dos)\n",
    "print (lista)\n",
    "# 2 forma\n",
    "print (lista + lista_dos)"
   ]
  }
 ],
 "metadata": {
  "kernelspec": {
   "display_name": "Python 3",
   "language": "python",
   "name": "python3"
  },
  "language_info": {
   "codemirror_mode": {
    "name": "ipython",
    "version": 3
   },
   "file_extension": ".py",
   "mimetype": "text/x-python",
   "name": "python",
   "nbconvert_exporter": "python",
   "pygments_lexer": "ipython3",
   "version": "3.11.5"
  },
  "nbTranslate": {
   "displayLangs": [
    "*"
   ],
   "hotkey": "alt-t",
   "langInMainMenu": true,
   "sourceLang": "en",
   "targetLang": "fr",
   "useGoogleTranslate": true
  },
  "varInspector": {
   "cols": {
    "lenName": 16,
    "lenType": 16,
    "lenVar": 40
   },
   "kernels_config": {
    "python": {
     "delete_cmd_postfix": "",
     "delete_cmd_prefix": "del ",
     "library": "var_list.py",
     "varRefreshCmd": "print(var_dic_list())"
    },
    "r": {
     "delete_cmd_postfix": ") ",
     "delete_cmd_prefix": "rm(",
     "library": "var_list.r",
     "varRefreshCmd": "cat(var_dic_list()) "
    }
   },
   "types_to_exclude": [
    "module",
    "function",
    "builtin_function_or_method",
    "instance",
    "_Feature"
   ],
   "window_display": false
  }
 },
 "nbformat": 4,
 "nbformat_minor": 4
}
